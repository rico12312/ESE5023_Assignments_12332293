{
 "cells": [
  {
   "cell_type": "markdown",
   "id": "4bc72d1b",
   "metadata": {},
   "source": [
    "### Prerequisites"
   ]
  },
  {
   "cell_type": "code",
   "execution_count": null,
   "id": "0a00ee52",
   "metadata": {
    "is_executing": true
   },
   "outputs": [],
   "source": [
    "# Prerequisites\n",
    "\n",
    "# Load modules\n",
    "import numpy as np\n",
    "import pandas as pd\n",
    "import matplotlib as mpl\n",
    "import matplotlib.pyplot as plt\n",
    "import matplotlib.gridspec as gridspec\n",
    "\n",
    "# Show plots in the notebook\n",
    "%matplotlib inline"
   ]
  },
  {
   "cell_type": "code",
   "execution_count": null,
   "id": "50667bd0",
   "metadata": {},
   "outputs": [],
   "source": [
    "# Read ozone data\n",
    "import pandas as pd\n",
    "ozone_data =  pd.read_csv('ozone_data.csv')\n",
    "\n",
    "# Check the data\n",
    "ozone_data.head()"
   ]
  },
  {
   "cell_type": "code",
   "execution_count": null,
   "id": "4aee82bf",
   "metadata": {},
   "outputs": [],
   "source": [
    "# Functions availabe in plt\n",
    "dir(plt)"
   ]
  },
  {
   "cell_type": "code",
   "execution_count": null,
   "id": "5c49c7cf",
   "metadata": {},
   "outputs": [],
   "source": [
    "# This will return the plot object itself (0x253619a4910) \n",
    "# besides drawing the plot\n",
    "plt.plot(ozone_data['Ozone'])"
   ]
  },
  {
   "cell_type": "code",
   "execution_count": null,
   "id": "cb4dd299",
   "metadata": {},
   "outputs": [],
   "source": [
    "# Only want to see the plot\n",
    "plt.plot(ozone_data['Ozone'])\n",
    "plt.show()"
   ]
  },
  {
   "cell_type": "code",
   "execution_count": null,
   "id": "2f9cfe8c",
   "metadata": {},
   "outputs": [],
   "source": [
    "# Draw a scatterplot\n",
    "# k - black; o - points\n",
    "plt.plot(ozone_data['Ozone'],'ko-')\n",
    "plt.show()"
   ]
  },
  {
   "cell_type": "code",
   "execution_count": null,
   "id": "1b02b45e",
   "metadata": {},
   "outputs": [],
   "source": [
    "help(plt.plot)"
   ]
  },
  {
   "cell_type": "code",
   "execution_count": null,
   "id": "b6182a7d",
   "metadata": {},
   "outputs": [],
   "source": [
    "# Set the figure size\n",
    "# 8 is width, 5 is height\n",
    "plt.figure(figsize=(8, 5))\n",
    "\n",
    "# Plot with a label\n",
    "plt.plot(ozone_data['Ozone'], 'g^-', label='Surface ozone') \n",
    "\n",
    "# Title, x and y labels, y lim, and legend\n",
    "plt.title('Daily Ozone')  \n",
    "plt.xlabel('Index')\n",
    "plt.ylabel('Ozone [ppb]')\n",
    "plt.ylim(0, 200)\n",
    "plt.legend(loc='upper left')\n",
    "\n",
    "# Show plot\n",
    "plt.show()"
   ]
  },
  {
   "cell_type": "code",
   "execution_count": null,
   "id": "c7c18191",
   "metadata": {},
   "outputs": [],
   "source": [
    "help(plt.legend)"
   ]
  },
  {
   "cell_type": "code",
   "execution_count": null,
   "id": "32ee5d2d",
   "metadata": {},
   "outputs": [],
   "source": [
    "# Create Figure and Subplots\n",
    "fig, (ax1, ax2) = plt.subplots(1,2, figsize=(8,5), sharex=True, dpi=200)\n",
    "\n",
    "# Plot\n",
    "ax1.plot(ozone_data['Ozone'], 'go')        # green dots\n",
    "ax2.plot(ozone_data['Temperature'], 'k*')  # black starts\n",
    "\n",
    "# Title, X and Y labels, and Y lim\n",
    "ax1.set_title('Ozone'); ax2.set_title('Temperature')             # title\n",
    "ax1.set_xlabel('Index'); ax2.set_xlabel('Index')                 # x label\n",
    "ax1.set_ylabel('Ozone [ppb]'); ax2.set_ylabel('Temperature [F]') # y label\n",
    "ax1.set_ylim(0, 200); ax2.set_ylim(50, 100)                      # y axis limits\n",
    "\n",
    "# Using a tight layout\n",
    "plt.tight_layout()\n",
    "plt.show()"
   ]
  },
  {
   "cell_type": "code",
   "execution_count": null,
   "id": "0825555a",
   "metadata": {},
   "outputs": [],
   "source": [
    "# Create Figure and Subplots\n",
    "fig, (ax1, ax2) = plt.subplots(1,2, figsize=(8,5), sharey=False, dpi=120)\n",
    "\n",
    "# Plot\n",
    "ax1.plot(ozone_data['Ozone'], 'go')  # green dots\n",
    "ax2.plot(ozone_data['Temperature'], 'k*')  # black starts\n",
    "\n",
    "# Title, X and Y labels, and Y limits\n",
    "ax1.set(title='Ozone', xlabel='Index', ylabel='Ozone [ppb]', ylim=(0,200))\n",
    "ax2.set(title='Temperature', xlabel='Index', ylabel='Temperature [F]', ylim=(50,100))\n",
    "\n",
    "# Using a tight layout\n",
    "plt.tight_layout()\n",
    "plt.show()"
   ]
  },
  {
   "cell_type": "code",
   "execution_count": null,
   "id": "e6a2cd99",
   "metadata": {},
   "outputs": [],
   "source": [
    "# Create Figure and Subplots\n",
    "plt.figure(figsize=(8,5), dpi=120) \n",
    "\n",
    "# Left hand side plot\n",
    "plt.subplot(1,2,1)  # (nRows, nColumns, axes number to plot)\n",
    "plt.plot(ozone_data['Ozone'], 'go')  # green dots\n",
    "plt.title('Ozone')  \n",
    "plt.xlabel('Index'); plt.ylabel('Ozone [ppb]')\n",
    "plt.ylim(0, 200)\n",
    "\n",
    "# Right hand side plot\n",
    "plt.subplot(1,2,2)\n",
    "plt.plot(ozone_data['Temperature'], 'k*')  # black starts\n",
    "plt.title('Temperature')  \n",
    "plt.xlabel('Index'); plt.ylabel('Temperature [F]')\n",
    "plt.ylim(50, 100)\n",
    "\n",
    "# Show plot\n",
    "plt.tight_layout()\n",
    "plt.show()"
   ]
  },
  {
   "cell_type": "code",
   "execution_count": null,
   "id": "792f437a",
   "metadata": {},
   "outputs": [],
   "source": [
    "# Draw multiple plots using for-loops using object oriented syntax\n",
    "\n",
    "# Create Figure and Subplots\n",
    "fig, axes = plt.subplots(2,2, figsize=(10,6), sharex=True, sharey=False, dpi=120)\n",
    "\n",
    "# Define the colors, markers, and fields (columns) to use\n",
    "colors  = {0:'g', 1:'b', 2:'r', 3:'y'}\n",
    "markers = {0:'o', 1:'x', 2:'*', 3:'p'}\n",
    "fields  = {0:'Ozone', 1:'Temperature', 2:'Pressure', 3:'Wind.Speed'}\n",
    "\n",
    "# Plot each axes\n",
    "for i, ax in enumerate(axes.ravel()):\n",
    "    ax.plot( ozone_data[fields[i]] , marker=markers[i], color=colors[i])  \n",
    "    ax.set_title(fields[i])\n",
    "\n",
    "# Plot super title\n",
    "plt.suptitle('Ozone and meterological data', verticalalignment='bottom', fontsize=16)   \n",
    "plt.tight_layout()\n",
    "plt.show()"
   ]
  },
  {
   "cell_type": "code",
   "execution_count": null,
   "id": "ff096361",
   "metadata": {},
   "outputs": [],
   "source": [
    "axes.ravel()"
   ]
  },
  {
   "cell_type": "code",
   "execution_count": null,
   "id": "bfc17cc2",
   "metadata": {},
   "outputs": [],
   "source": [
    "# Set the figure\n",
    "plt.figure(figsize=(8,5), dpi=100)\n",
    "\n",
    "# Plot dots\n",
    "plt.plot(ozone_data['Ozone'], 'go')  # green dots\n",
    "\n",
    "# Adjust xy axis ticks\n",
    "plt.xticks(ticks=np.arange(0, 120, 10), fontsize=20, rotation=90, ha='left', va='center')\n",
    "plt.yticks(ticks=np.arange(0, 200, 50), fontsize=12, rotation=0, ha='right', va='center')\n",
    "\n",
    "# Tick parameters\n",
    "plt.tick_params(axis='both', bottom=True, top=True, left=True, right=True, \n",
    "                direction='out', which='major', grid_color='blue')\n",
    "\n",
    "# Plot grid lines\n",
    "plt.grid(linestyle='--', linewidth=0.5, alpha=0.1)\n",
    "\n",
    "# Add title, \\n makes a new line\n",
    "plt.title('Ozone \\n(ppb)', fontsize=14)\n",
    "\n",
    "# Show plot\n",
    "plt.show()"
   ]
  },
  {
   "cell_type": "code",
   "execution_count": null,
   "id": "f33b46e4",
   "metadata": {},
   "outputs": [],
   "source": [
    "# Check available styles\n",
    "plt.style.available"
   ]
  },
  {
   "cell_type": "code",
   "execution_count": null,
   "id": "bacf2cf5",
   "metadata": {
    "scrolled": true
   },
   "outputs": [],
   "source": [
    "# Use style\n",
    "plt.style.use('classic')\n",
    "plt.plot(ozone_data['Ozone'], 'go')\n",
    "plt.show()\n",
    "# Reset to defaults\n",
    "mpl.rcParams.update(mpl.rcParamsDefault) \n",
    "\n",
    "# Use style\n",
    "plt.style.use('seaborn')\n",
    "plt.plot(ozone_data['Ozone'], 'go')\n",
    "plt.show()\n",
    "# Reset to defaults\n",
    "mpl.rcParams.update(mpl.rcParamsDefault)\n",
    "\n",
    "# Use style\n",
    "plt.style.use('seaborn-paper')\n",
    "plt.plot(ozone_data['Ozone'], 'go')\n",
    "plt.show()\n",
    "# Reset to defaults\n",
    "mpl.rcParams.update(mpl.rcParamsDefault)"
   ]
  },
  {
   "cell_type": "code",
   "execution_count": null,
   "id": "4c7f4f1a",
   "metadata": {},
   "outputs": [],
   "source": [
    "# Check rcParam\n",
    "mpl.rc_params()"
   ]
  },
  {
   "cell_type": "code",
   "execution_count": null,
   "id": "911a55b8",
   "metadata": {},
   "outputs": [],
   "source": [
    "# Plot without changing rcParam\n",
    "plt.plot(ozone_data['Ozone'], 'go')\n",
    "plt.show()\n",
    "\n",
    "# Update rcParam and plot\n",
    "mpl.rcParams.update({'font.size': 18, 'font.family': 'STIXGeneral', 'mathtext.fontset': 'stix'})\n",
    "plt.plot(ozone_data['Ozone'], 'go')\n",
    "plt.show()\n",
    "\n",
    "# Reset to defaults\n",
    "mpl.rcParams.update(mpl.rcParamsDefault)"
   ]
  },
  {
   "cell_type": "code",
   "execution_count": null,
   "id": "68f054fb",
   "metadata": {},
   "outputs": [],
   "source": [
    "# View Colors\n",
    "mpl.colors.BASE_COLORS    # 8 colors\n",
    "#mpl.colors.TABLEAU_COLORS # 10 colors\n",
    "#mpl.colors.CSS4_COLORS    # 148 colors\n",
    "#mpl.colors.XKCD_COLORS    # 949 colors"
   ]
  },
  {
   "cell_type": "code",
   "execution_count": null,
   "id": "332380e2",
   "metadata": {},
   "outputs": [],
   "source": [
    "# Plot using color: blue from BASE_COLORS\n",
    "plt.plot(ozone_data['Ozone'], color='b')\n",
    "plt.show()\n",
    "\n",
    "# Plot using color: teal from CSS4_COLORS\n",
    "plt.plot(ozone_data['Ozone'], color='teal')\n",
    "plt.show()\n",
    "\n",
    "# Plot using color: light mint green from XKCD_COLORS\n",
    "plt.plot(ozone_data['Ozone'], color='xkcd:light mint green')\n",
    "plt.show()"
   ]
  },
  {
   "cell_type": "code",
   "execution_count": null,
   "id": "6ae37085",
   "metadata": {},
   "outputs": [],
   "source": [
    "# Plot Line1 (Left Y Axis)\n",
    "fig, ax1 = plt.subplots(1,1,figsize=(8,5), dpi=100)\n",
    "ax1.plot(ozone_data['Ozone'], color='g')\n",
    "\n",
    "# Plot Line2 (Right Y Axis)\n",
    "# Instantiate a second axes that shares the same x-axis\n",
    "ax2 = ax1.twinx() \n",
    "ax2.plot(ozone_data['Temperature'], color='b')\n",
    "\n",
    "# Set axis\n",
    "# ax1 (left y axis)\n",
    "ax1.set_ylabel('Ozone [ppb]', color='g', fontsize=15)\n",
    "ax1.tick_params(axis='y', rotation=0, labelcolor='g')\n",
    "\n",
    "# ax2 (right Y axis)\n",
    "ax2.set_ylabel('Temperature [F]', color='b', fontsize=15)\n",
    "ax2.tick_params(axis='y', labelcolor='b')\n",
    "\n",
    "# Set title\n",
    "ax2.set_title(\"Daily ozone and temperature\", fontsize=15)\n",
    "\n",
    "# Show plot\n",
    "plt.show()"
   ]
  },
  {
   "cell_type": "code",
   "execution_count": null,
   "id": "4a90af43",
   "metadata": {},
   "outputs": [],
   "source": [
    "# Plot with default legend\n",
    "plt.figure(figsize=(8,5), dpi=100)\n",
    "plt.plot(ozone_data['Ozone'],'go', label='Ozone') \n",
    "plt.plot(ozone_data['Temperature'], 'k*', label='Temperature')\n",
    "plt.legend(loc='best')\n",
    "plt.title('Default legend example', fontsize=18)\n",
    "plt.show()\n",
    "\n",
    "# Plot with custom legend example\n",
    "plt.figure(figsize=(8,5), dpi=100)\n",
    "myplot1 = plt.plot(ozone_data['Ozone'], 'go')\n",
    "myplot2 = plt.plot(ozone_data['Temperature'], 'k*')\n",
    "plt.title('Custom legend example', fontsize=18)\n",
    "\n",
    "# Modify legend\n",
    "plt.legend([myplot1[0], myplot2[0]],       # plot items\n",
    "           ['Ozone', 'Temperature'],       # legends\n",
    "           frameon=True,                   # legend border\n",
    "           framealpha=1,                   # transparency of border\n",
    "           ncol=2,                         # num of columns\n",
    "           shadow=False,                   # shadow on\n",
    "           borderpad=1,                    # thickness of border\n",
    "           title='Ozone and temperature ') # title\n",
    "plt.show()"
   ]
  },
  {
   "cell_type": "code",
   "execution_count": null,
   "id": "76f965b7",
   "metadata": {},
   "outputs": [],
   "source": [
    "# Texts, Arrows and Annotations Example\n",
    "plt.figure(figsize=(8,5), dpi=100)\n",
    "plt.plot(ozone_data['Ozone'],'go', label='Ozone') \n",
    "\n",
    "# Annotate with Arrow Props and bbox\n",
    "plt.annotate('Peaks', xy=(77, 165), xytext=(90, 150),\n",
    "             bbox=dict(boxstyle='square', fc='green', linewidth=0.1),\n",
    "             arrowprops=dict(facecolor='black', shrink=0.01, width=0.1), \n",
    "             fontsize=12, color='white', horizontalalignment='center')\n",
    "\n",
    "# Texts at Peaks and Troughs\n",
    "for index in [10, 60, 110]:\n",
    "    plt.text(index, -25, str(index) + \"\\n days\", \n",
    "             transform=plt.gca().transData, horizontalalignment='center', color='blue')\n",
    "\n",
    "for index in [20, 70, 120]:\n",
    "    plt.text(index, 0, str(index) + \"\\n days\", \n",
    "             transform=plt.gca().transData, horizontalalignment='center', color='red')    \n",
    "\n",
    "# Set xy limit\n",
    "plt.gca().set(ylim=(0, 180), xlim=(0, 120))\n",
    "\n",
    "# Add titile\n",
    "plt.title('Daily Ozone', fontsize=18)\n",
    "\n",
    "# Show plot\n",
    "plt.show()"
   ]
  },
  {
   "cell_type": "code",
   "execution_count": null,
   "id": "9548f3a9",
   "metadata": {},
   "outputs": [],
   "source": [
    "# Texts, Arrows and Annotations Example\n",
    "plt.figure(figsize=(8,5), dpi=100)\n",
    "plt.plot(ozone_data['Ozone'],'go', label='Ozone') \n",
    "\n",
    "# Text Relative to DATA\n",
    "plt.text(0.5, 0.05, \"Text1 \", transform=plt.gca().transData, \n",
    "         fontsize=14, ha='center', color='blue')\n",
    "\n",
    "# Text Relative to AXES\n",
    "plt.text(0.5, 0.5, \"Text2\", transform=plt.gca().transAxes, \n",
    "         fontsize=14, ha='center', color='red')\n",
    "\n",
    "# Text Relative to FIGURE\n",
    "plt.text(0.5, 0.05, \"Text3\", transform=plt.gcf().transFigure, \n",
    "         fontsize=14, ha='center', color='orange')\n",
    " \n",
    "# Set xy limit\n",
    "plt.gca().set(ylim=(0, 180), xlim=(0, 120))\n",
    "\n",
    "# Add titile\n",
    "plt.title('Daily Ozone', fontsize=18)\n",
    "\n",
    "# Show plot\n",
    "plt.show()"
   ]
  },
  {
   "cell_type": "code",
   "execution_count": null,
   "id": "9dbc081c",
   "metadata": {},
   "outputs": [],
   "source": [
    "# Supplot2grid approach\n",
    "# Object-oriented syntax\n",
    "\n",
    "# Set the subgrids\n",
    "fig = plt.figure(figsize=(10,6),dpi=120)\n",
    "ax1 = plt.subplot2grid((3,3), (0,0), colspan=2, rowspan=2) # topleft\n",
    "ax2 = plt.subplot2grid((3,3), (0,2), rowspan=3)            # right\n",
    "ax3 = plt.subplot2grid((3,3), (2,0))                       # bottom left\n",
    "ax4 = plt.subplot2grid((3,3), (2,1))                       # bottom right\n",
    "\n",
    "# Define the colors, markers, and fields (columns) to use\n",
    "colors  = {0:'g', 1:'b', 2:'r', 3:'y'}\n",
    "markers = {0:'o', 1:'x', 2:'*', 3:'p'}\n",
    "fields  = {0:'Ozone', 1:'Temperature', 2:'Pressure', 3:'Wind.Speed'}\n",
    "\n",
    "# Plot each axes\n",
    "ax1.plot(ozone_data[fields[0]] , marker=markers[0], color=colors[0])  \n",
    "ax1.set_title(fields[0])\n",
    "\n",
    "ax2.plot(ozone_data[fields[1]] , marker=markers[1], color=colors[1])  \n",
    "ax2.set_title(fields[1])\n",
    "\n",
    "ax3.plot(ozone_data[fields[2]] , marker=markers[2], color=colors[2])  \n",
    "ax3.set_title(fields[2])\n",
    "\n",
    "ax4.plot(ozone_data[fields[3]] , marker=markers[3], color=colors[3])  \n",
    "ax4.set_title(fields[3])\n",
    "\n",
    "# Plot super title\n",
    "plt.suptitle('Ozone and meterological data', verticalalignment='bottom', fontsize=16)   \n",
    "plt.tight_layout()\n",
    "\n",
    "# Show plot\n",
    "plt.show()"
   ]
  },
  {
   "cell_type": "code",
   "execution_count": null,
   "id": "4ffb0c5c",
   "metadata": {},
   "outputs": [],
   "source": [
    "# GridSpec Approach \n",
    "# Matlab-like syntax\n",
    "\n",
    "# Set the subgrids\n",
    "fig = plt.figure(figsize=(10,6), dpi=120)\n",
    "grid = plt.GridSpec(3, 3)  # 3 rows 3 cols\n",
    "\n",
    "# Plot each axes\n",
    "plt.subplot(grid[0:2, 0:2])  # top left\n",
    "plt.plot(ozone_data[fields[0]] , marker=markers[0], color=colors[0])  \n",
    "plt.title(fields[0])\n",
    "\n",
    "# Plot each axes\n",
    "plt.subplot(grid[0:3, 2])   # top right\n",
    "plt.plot(ozone_data[fields[1]] , marker=markers[1], color=colors[1])  \n",
    "plt.title(fields[1])\n",
    "\n",
    "# Plot each axes\n",
    "plt.subplot(grid[2, 0])  # bottom left\n",
    "plt.plot(ozone_data[fields[2]] , marker=markers[2], color=colors[2])  \n",
    "plt.title(fields[2])\n",
    "\n",
    "# Plot each axes\n",
    "plt.subplot(grid[2, 1])  # bottom right\n",
    "plt.plot(ozone_data[fields[3]] , marker=markers[3], color=colors[3])  \n",
    "plt.title(fields[3])\n",
    "\n",
    "# Plot super title\n",
    "plt.suptitle('Ozone and meterological data', verticalalignment='bottom', \n",
    "             fontsize=16) \n",
    "\n",
    "plt.tight_layout()\n",
    "\n",
    "# Show plot\n",
    "plt.show()"
   ]
  },
  {
   "cell_type": "code",
   "execution_count": null,
   "id": "3ad42fc8",
   "metadata": {},
   "outputs": [],
   "source": [
    "# Plot\n",
    "plt.figure(figsize=(8,5), dpi=100)\n",
    "\n",
    "# Scatter plot\n",
    "plt.scatter('Temperature', 'Wind.Speed', data=ozone_data, \n",
    "            s='Ozone', c='Pressure', cmap='Blues', \n",
    "            edgecolors='black', linewidths=0.5)\n",
    "\n",
    "# Title\n",
    "plt.title(\"Bubble Plot of Wind speed vs Temperature\\n(color: 'Pressure', size: 'Ozone')\", \n",
    "          fontsize=16)\n",
    "\n",
    "# xy lables\n",
    "plt.xlabel('Temperature [F]', fontsize=18)\n",
    "plt.ylabel('Wind speed [m/s]', fontsize=18)\n",
    "\n",
    "# Show colorbar\n",
    "plt.colorbar()\n",
    "\n",
    "# Save the figure\n",
    "# Make sure this line goes before plt.show()\n",
    "plt.savefig(\"bubbleplot.png\", transparent=False, dpi=100)\n",
    "\n",
    "# Show plot\n",
    "plt.show()   "
   ]
  },
  {
   "cell_type": "code",
   "execution_count": null,
   "id": "3785c86c",
   "metadata": {},
   "outputs": [],
   "source": [
    "help(plt.scatter)"
   ]
  },
  {
   "cell_type": "markdown",
   "id": "42412e25",
   "metadata": {},
   "source": [
    "## In-class exercises"
   ]
  },
  {
   "cell_type": "code",
   "execution_count": null,
   "id": "fcd1c64a",
   "metadata": {},
   "outputs": [],
   "source": []
  }
 ],
 "metadata": {
  "kernelspec": {
   "display_name": "Python 3 (ipykernel)",
   "language": "python",
   "name": "python3"
  },
  "language_info": {
   "codemirror_mode": {
    "name": "ipython",
    "version": 3
   },
   "file_extension": ".py",
   "mimetype": "text/x-python",
   "name": "python",
   "nbconvert_exporter": "python",
   "pygments_lexer": "ipython3",
   "version": "3.11.4"
  }
 },
 "nbformat": 4,
 "nbformat_minor": 5
}
