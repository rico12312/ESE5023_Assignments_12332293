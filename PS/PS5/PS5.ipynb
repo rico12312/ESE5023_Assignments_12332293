{
 "cells": [
  {
   "cell_type": "code",
   "execution_count": 31,
   "id": "initial_id",
   "metadata": {
    "collapsed": true,
    "ExecuteTime": {
     "end_time": "2023-12-10T05:09:42.161506300Z",
     "start_time": "2023-12-10T05:09:42.153503900Z"
    }
   },
   "outputs": [],
   "source": [
    "# import libraries\n",
    "import numpy as np\n",
    "import pandas as pd"
   ]
  },
  {
   "cell_type": "code",
   "execution_count": 32,
   "outputs": [
    {
     "data": {
      "text/plain": "                                                  Year  \\\n0    Source: Tom Boden (Oak Ridge National Laboratory)   \n1                                                 1751   \n2                                                 1752   \n3                                                 1753   \n4                                                 1754   \n..                                                 ...   \n260                                               2010   \n261                                               2011   \n262                                               2012   \n263                                               2013   \n264                                               2014   \n\n    Total carbon emissions from fossil fuel consumption and cement production (million metric tons of C)  \\\n0         Gregg Marland (Appalachian State University)                                                     \n1                                                    3                                                     \n2                                                    3                                                     \n3                                                    3                                                     \n4                                                    3                                                     \n..                                                 ...                                                     \n260                                               9128                                                     \n261                                               9503                                                     \n262                                               9673                                                     \n263                                               9773                                                     \n264                                               9855                                                     \n\n          Carbon emissions from gas fuel consumption  \\\n0     and Bob Andres (Oak Ridge National Laboratory)   \n1                                                  0   \n2                                                  0   \n3                                                  0   \n4                                                  0   \n..                                               ...   \n260                                             1696   \n261                                             1756   \n262                                             1783   \n263                                             1806   \n264                                             1823   \n\n     Carbon emissions from liquid fuel consumption  \\\n0                                              NaN   \n1                                              0.0   \n2                                              0.0   \n3                                              0.0   \n4                                              0.0   \n..                                             ...   \n260                                         3107.0   \n261                                         3134.0   \n262                                         3200.0   \n263                                         3220.0   \n264                                         3280.0   \n\n     Carbon emissions from solid fuel consumption  \\\n0                                             NaN   \n1                                             3.0   \n2                                             3.0   \n3                                             3.0   \n4                                             3.0   \n..                                            ...   \n260                                        3812.0   \n261                                        4055.0   \n262                                        4106.0   \n263                                        4126.0   \n264                                        4117.0   \n\n     Carbon emissions from cement production  \\\n0                                        NaN   \n1                                        0.0   \n2                                        0.0   \n3                                        0.0   \n4                                        0.0   \n..                                       ...   \n260                                    446.0   \n261                                    494.0   \n262                                    519.0   \n263                                    554.0   \n264                                    568.0   \n\n     Carbon emissions from gas flaring  \\\n0                                  NaN   \n1                                  0.0   \n2                                  0.0   \n3                                  0.0   \n4                                  0.0   \n..                                 ...   \n260                               67.0   \n261                               64.0   \n262                               65.0   \n263                               68.0   \n264                               68.0   \n\n     Per capita carbon emissions (metric tons of carbon; after 1949 only)  \n0                                                  NaN                     \n1                                                  NaN                     \n2                                                  NaN                     \n3                                                  NaN                     \n4                                                  NaN                     \n..                                                 ...                     \n260                                               1.32                     \n261                                               1.36                     \n262                                               1.36                     \n263                                               1.36                     \n264                                               1.36                     \n\n[265 rows x 8 columns]",
      "text/html": "<div>\n<style scoped>\n    .dataframe tbody tr th:only-of-type {\n        vertical-align: middle;\n    }\n\n    .dataframe tbody tr th {\n        vertical-align: top;\n    }\n\n    .dataframe thead th {\n        text-align: right;\n    }\n</style>\n<table border=\"1\" class=\"dataframe\">\n  <thead>\n    <tr style=\"text-align: right;\">\n      <th></th>\n      <th>Year</th>\n      <th>Total carbon emissions from fossil fuel consumption and cement production (million metric tons of C)</th>\n      <th>Carbon emissions from gas fuel consumption</th>\n      <th>Carbon emissions from liquid fuel consumption</th>\n      <th>Carbon emissions from solid fuel consumption</th>\n      <th>Carbon emissions from cement production</th>\n      <th>Carbon emissions from gas flaring</th>\n      <th>Per capita carbon emissions (metric tons of carbon; after 1949 only)</th>\n    </tr>\n  </thead>\n  <tbody>\n    <tr>\n      <th>0</th>\n      <td>Source: Tom Boden (Oak Ridge National Laboratory)</td>\n      <td>Gregg Marland (Appalachian State University)</td>\n      <td>and Bob Andres (Oak Ridge National Laboratory)</td>\n      <td>NaN</td>\n      <td>NaN</td>\n      <td>NaN</td>\n      <td>NaN</td>\n      <td>NaN</td>\n    </tr>\n    <tr>\n      <th>1</th>\n      <td>1751</td>\n      <td>3</td>\n      <td>0</td>\n      <td>0.0</td>\n      <td>3.0</td>\n      <td>0.0</td>\n      <td>0.0</td>\n      <td>NaN</td>\n    </tr>\n    <tr>\n      <th>2</th>\n      <td>1752</td>\n      <td>3</td>\n      <td>0</td>\n      <td>0.0</td>\n      <td>3.0</td>\n      <td>0.0</td>\n      <td>0.0</td>\n      <td>NaN</td>\n    </tr>\n    <tr>\n      <th>3</th>\n      <td>1753</td>\n      <td>3</td>\n      <td>0</td>\n      <td>0.0</td>\n      <td>3.0</td>\n      <td>0.0</td>\n      <td>0.0</td>\n      <td>NaN</td>\n    </tr>\n    <tr>\n      <th>4</th>\n      <td>1754</td>\n      <td>3</td>\n      <td>0</td>\n      <td>0.0</td>\n      <td>3.0</td>\n      <td>0.0</td>\n      <td>0.0</td>\n      <td>NaN</td>\n    </tr>\n    <tr>\n      <th>...</th>\n      <td>...</td>\n      <td>...</td>\n      <td>...</td>\n      <td>...</td>\n      <td>...</td>\n      <td>...</td>\n      <td>...</td>\n      <td>...</td>\n    </tr>\n    <tr>\n      <th>260</th>\n      <td>2010</td>\n      <td>9128</td>\n      <td>1696</td>\n      <td>3107.0</td>\n      <td>3812.0</td>\n      <td>446.0</td>\n      <td>67.0</td>\n      <td>1.32</td>\n    </tr>\n    <tr>\n      <th>261</th>\n      <td>2011</td>\n      <td>9503</td>\n      <td>1756</td>\n      <td>3134.0</td>\n      <td>4055.0</td>\n      <td>494.0</td>\n      <td>64.0</td>\n      <td>1.36</td>\n    </tr>\n    <tr>\n      <th>262</th>\n      <td>2012</td>\n      <td>9673</td>\n      <td>1783</td>\n      <td>3200.0</td>\n      <td>4106.0</td>\n      <td>519.0</td>\n      <td>65.0</td>\n      <td>1.36</td>\n    </tr>\n    <tr>\n      <th>263</th>\n      <td>2013</td>\n      <td>9773</td>\n      <td>1806</td>\n      <td>3220.0</td>\n      <td>4126.0</td>\n      <td>554.0</td>\n      <td>68.0</td>\n      <td>1.36</td>\n    </tr>\n    <tr>\n      <th>264</th>\n      <td>2014</td>\n      <td>9855</td>\n      <td>1823</td>\n      <td>3280.0</td>\n      <td>4117.0</td>\n      <td>568.0</td>\n      <td>68.0</td>\n      <td>1.36</td>\n    </tr>\n  </tbody>\n</table>\n<p>265 rows × 8 columns</p>\n</div>"
     },
     "execution_count": 32,
     "metadata": {},
     "output_type": "execute_result"
    }
   ],
   "source": [
    "# import data\n",
    "data = pd.read_csv('global.1751_2014.csv')\n",
    "# check data\n",
    "data"
   ],
   "metadata": {
    "collapsed": false,
    "ExecuteTime": {
     "end_time": "2023-12-10T05:09:42.587162800Z",
     "start_time": "2023-12-10T05:09:42.576880400Z"
    }
   },
   "id": "625f085335b5c93e"
  },
  {
   "cell_type": "code",
   "execution_count": 33,
   "outputs": [
    {
     "data": {
      "text/plain": "     Year  \\\n1    1751   \n2    1752   \n3    1753   \n4    1754   \n5    1755   \n..    ...   \n260  2010   \n261  2011   \n262  2012   \n263  2013   \n264  2014   \n\n    Total carbon emissions from fossil fuel consumption and cement production (million metric tons of C)  \n1                                                    3                                                    \n2                                                    3                                                    \n3                                                    3                                                    \n4                                                    3                                                    \n5                                                    3                                                    \n..                                                 ...                                                    \n260                                               9128                                                    \n261                                               9503                                                    \n262                                               9673                                                    \n263                                               9773                                                    \n264                                               9855                                                    \n\n[264 rows x 2 columns]",
      "text/html": "<div>\n<style scoped>\n    .dataframe tbody tr th:only-of-type {\n        vertical-align: middle;\n    }\n\n    .dataframe tbody tr th {\n        vertical-align: top;\n    }\n\n    .dataframe thead th {\n        text-align: right;\n    }\n</style>\n<table border=\"1\" class=\"dataframe\">\n  <thead>\n    <tr style=\"text-align: right;\">\n      <th></th>\n      <th>Year</th>\n      <th>Total carbon emissions from fossil fuel consumption and cement production (million metric tons of C)</th>\n    </tr>\n  </thead>\n  <tbody>\n    <tr>\n      <th>1</th>\n      <td>1751</td>\n      <td>3</td>\n    </tr>\n    <tr>\n      <th>2</th>\n      <td>1752</td>\n      <td>3</td>\n    </tr>\n    <tr>\n      <th>3</th>\n      <td>1753</td>\n      <td>3</td>\n    </tr>\n    <tr>\n      <th>4</th>\n      <td>1754</td>\n      <td>3</td>\n    </tr>\n    <tr>\n      <th>5</th>\n      <td>1755</td>\n      <td>3</td>\n    </tr>\n    <tr>\n      <th>...</th>\n      <td>...</td>\n      <td>...</td>\n    </tr>\n    <tr>\n      <th>260</th>\n      <td>2010</td>\n      <td>9128</td>\n    </tr>\n    <tr>\n      <th>261</th>\n      <td>2011</td>\n      <td>9503</td>\n    </tr>\n    <tr>\n      <th>262</th>\n      <td>2012</td>\n      <td>9673</td>\n    </tr>\n    <tr>\n      <th>263</th>\n      <td>2013</td>\n      <td>9773</td>\n    </tr>\n    <tr>\n      <th>264</th>\n      <td>2014</td>\n      <td>9855</td>\n    </tr>\n  </tbody>\n</table>\n<p>264 rows × 2 columns</p>\n</div>"
     },
     "execution_count": 33,
     "metadata": {},
     "output_type": "execute_result"
    }
   ],
   "source": [
    "# cut the unwanted data  and check data\n",
    "data = data.iloc[1:,0:2]\n",
    "data"
   ],
   "metadata": {
    "collapsed": false,
    "ExecuteTime": {
     "end_time": "2023-12-10T05:09:43.108001300Z",
     "start_time": "2023-12-10T05:09:43.098390200Z"
    }
   },
   "id": "e6b83207aab93d79"
  },
  {
   "cell_type": "code",
   "execution_count": 34,
   "outputs": [
    {
     "data": {
      "text/plain": "    Year  \\\n0   1986   \n1   1987   \n2   1988   \n3   1989   \n4   1990   \n5   1991   \n6   1992   \n7   1993   \n8   1994   \n9   1995   \n10  1996   \n11  1997   \n12  1998   \n13  1999   \n14  2000   \n15  2001   \n16  2002   \n17  2003   \n18  2004   \n\n   Total carbon emissions from fossil fuel consumption and cement production (million metric tons of C)  \n0                                                5583                                                    \n1                                                5725                                                    \n2                                                5936                                                    \n3                                                6066                                                    \n4                                                6074                                                    \n5                                                6142                                                    \n6                                                6078                                                    \n7                                                6070                                                    \n8                                                6174                                                    \n9                                                6305                                                    \n10                                               6448                                                    \n11                                               6556                                                    \n12                                               6576                                                    \n13                                               6561                                                    \n14                                               6733                                                    \n15                                               6893                                                    \n16                                               6994                                                    \n17                                               7376                                                    \n18                                               7743                                                    ",
      "text/html": "<div>\n<style scoped>\n    .dataframe tbody tr th:only-of-type {\n        vertical-align: middle;\n    }\n\n    .dataframe tbody tr th {\n        vertical-align: top;\n    }\n\n    .dataframe thead th {\n        text-align: right;\n    }\n</style>\n<table border=\"1\" class=\"dataframe\">\n  <thead>\n    <tr style=\"text-align: right;\">\n      <th></th>\n      <th>Year</th>\n      <th>Total carbon emissions from fossil fuel consumption and cement production (million metric tons of C)</th>\n    </tr>\n  </thead>\n  <tbody>\n    <tr>\n      <th>0</th>\n      <td>1986</td>\n      <td>5583</td>\n    </tr>\n    <tr>\n      <th>1</th>\n      <td>1987</td>\n      <td>5725</td>\n    </tr>\n    <tr>\n      <th>2</th>\n      <td>1988</td>\n      <td>5936</td>\n    </tr>\n    <tr>\n      <th>3</th>\n      <td>1989</td>\n      <td>6066</td>\n    </tr>\n    <tr>\n      <th>4</th>\n      <td>1990</td>\n      <td>6074</td>\n    </tr>\n    <tr>\n      <th>5</th>\n      <td>1991</td>\n      <td>6142</td>\n    </tr>\n    <tr>\n      <th>6</th>\n      <td>1992</td>\n      <td>6078</td>\n    </tr>\n    <tr>\n      <th>7</th>\n      <td>1993</td>\n      <td>6070</td>\n    </tr>\n    <tr>\n      <th>8</th>\n      <td>1994</td>\n      <td>6174</td>\n    </tr>\n    <tr>\n      <th>9</th>\n      <td>1995</td>\n      <td>6305</td>\n    </tr>\n    <tr>\n      <th>10</th>\n      <td>1996</td>\n      <td>6448</td>\n    </tr>\n    <tr>\n      <th>11</th>\n      <td>1997</td>\n      <td>6556</td>\n    </tr>\n    <tr>\n      <th>12</th>\n      <td>1998</td>\n      <td>6576</td>\n    </tr>\n    <tr>\n      <th>13</th>\n      <td>1999</td>\n      <td>6561</td>\n    </tr>\n    <tr>\n      <th>14</th>\n      <td>2000</td>\n      <td>6733</td>\n    </tr>\n    <tr>\n      <th>15</th>\n      <td>2001</td>\n      <td>6893</td>\n    </tr>\n    <tr>\n      <th>16</th>\n      <td>2002</td>\n      <td>6994</td>\n    </tr>\n    <tr>\n      <th>17</th>\n      <td>2003</td>\n      <td>7376</td>\n    </tr>\n    <tr>\n      <th>18</th>\n      <td>2004</td>\n      <td>7743</td>\n    </tr>\n  </tbody>\n</table>\n</div>"
     },
     "execution_count": 34,
     "metadata": {},
     "output_type": "execute_result"
    }
   ],
   "source": [
    "# select the data from 1987 to 2004 and check data\n",
    "data = data[(data['Year']>='1986')&(data['Year']<='2004')].reset_index(drop=True)\n",
    "data"
   ],
   "metadata": {
    "collapsed": false,
    "ExecuteTime": {
     "end_time": "2023-12-10T05:09:43.593309100Z",
     "start_time": "2023-12-10T05:09:43.582539200Z"
    }
   },
   "id": "a2800e1b9c18f149"
  },
  {
   "cell_type": "code",
   "execution_count": 35,
   "outputs": [
    {
     "data": {
      "text/plain": "    Year  \\\n0   1986   \n1   1987   \n2   1988   \n3   1989   \n4   1990   \n5   1991   \n6   1992   \n7   1993   \n8   1994   \n9   1995   \n10  1996   \n11  1997   \n12  1998   \n13  1999   \n14  2000   \n15  2001   \n16  2002   \n17  2003   \n18  2004   \n\n   Total carbon emissions from fossil fuel consumption and cement production (million metric tons of C)  \\\n0                                                5583                                                     \n1                                                5725                                                     \n2                                                5936                                                     \n3                                                6066                                                     \n4                                                6074                                                     \n5                                                6142                                                     \n6                                                6078                                                     \n7                                                6070                                                     \n8                                                6174                                                     \n9                                                6305                                                     \n10                                               6448                                                     \n11                                               6556                                                     \n12                                               6576                                                     \n13                                               6561                                                     \n14                                               6733                                                     \n15                                               6893                                                     \n16                                               6994                                                     \n17                                               7376                                                     \n18                                               7743                                                     \n\n    Total carbon emission in pg  CO2 level in ppm  \n0                         5.583               347  \n1                         5.725               347  \n2                         5.936               347  \n3                         6.066               347  \n4                         6.074               347  \n5                         6.142               347  \n6                         6.078               347  \n7                         6.070               347  \n8                         6.174               347  \n9                         6.305               347  \n10                        6.448               347  \n11                        6.556               347  \n12                        6.576               347  \n13                        6.561               347  \n14                        6.733               347  \n15                        6.893               347  \n16                        6.994               347  \n17                        7.376               347  \n18                        7.743               347  ",
      "text/html": "<div>\n<style scoped>\n    .dataframe tbody tr th:only-of-type {\n        vertical-align: middle;\n    }\n\n    .dataframe tbody tr th {\n        vertical-align: top;\n    }\n\n    .dataframe thead th {\n        text-align: right;\n    }\n</style>\n<table border=\"1\" class=\"dataframe\">\n  <thead>\n    <tr style=\"text-align: right;\">\n      <th></th>\n      <th>Year</th>\n      <th>Total carbon emissions from fossil fuel consumption and cement production (million metric tons of C)</th>\n      <th>Total carbon emission in pg</th>\n      <th>CO2 level in ppm</th>\n    </tr>\n  </thead>\n  <tbody>\n    <tr>\n      <th>0</th>\n      <td>1986</td>\n      <td>5583</td>\n      <td>5.583</td>\n      <td>347</td>\n    </tr>\n    <tr>\n      <th>1</th>\n      <td>1987</td>\n      <td>5725</td>\n      <td>5.725</td>\n      <td>347</td>\n    </tr>\n    <tr>\n      <th>2</th>\n      <td>1988</td>\n      <td>5936</td>\n      <td>5.936</td>\n      <td>347</td>\n    </tr>\n    <tr>\n      <th>3</th>\n      <td>1989</td>\n      <td>6066</td>\n      <td>6.066</td>\n      <td>347</td>\n    </tr>\n    <tr>\n      <th>4</th>\n      <td>1990</td>\n      <td>6074</td>\n      <td>6.074</td>\n      <td>347</td>\n    </tr>\n    <tr>\n      <th>5</th>\n      <td>1991</td>\n      <td>6142</td>\n      <td>6.142</td>\n      <td>347</td>\n    </tr>\n    <tr>\n      <th>6</th>\n      <td>1992</td>\n      <td>6078</td>\n      <td>6.078</td>\n      <td>347</td>\n    </tr>\n    <tr>\n      <th>7</th>\n      <td>1993</td>\n      <td>6070</td>\n      <td>6.070</td>\n      <td>347</td>\n    </tr>\n    <tr>\n      <th>8</th>\n      <td>1994</td>\n      <td>6174</td>\n      <td>6.174</td>\n      <td>347</td>\n    </tr>\n    <tr>\n      <th>9</th>\n      <td>1995</td>\n      <td>6305</td>\n      <td>6.305</td>\n      <td>347</td>\n    </tr>\n    <tr>\n      <th>10</th>\n      <td>1996</td>\n      <td>6448</td>\n      <td>6.448</td>\n      <td>347</td>\n    </tr>\n    <tr>\n      <th>11</th>\n      <td>1997</td>\n      <td>6556</td>\n      <td>6.556</td>\n      <td>347</td>\n    </tr>\n    <tr>\n      <th>12</th>\n      <td>1998</td>\n      <td>6576</td>\n      <td>6.576</td>\n      <td>347</td>\n    </tr>\n    <tr>\n      <th>13</th>\n      <td>1999</td>\n      <td>6561</td>\n      <td>6.561</td>\n      <td>347</td>\n    </tr>\n    <tr>\n      <th>14</th>\n      <td>2000</td>\n      <td>6733</td>\n      <td>6.733</td>\n      <td>347</td>\n    </tr>\n    <tr>\n      <th>15</th>\n      <td>2001</td>\n      <td>6893</td>\n      <td>6.893</td>\n      <td>347</td>\n    </tr>\n    <tr>\n      <th>16</th>\n      <td>2002</td>\n      <td>6994</td>\n      <td>6.994</td>\n      <td>347</td>\n    </tr>\n    <tr>\n      <th>17</th>\n      <td>2003</td>\n      <td>7376</td>\n      <td>7.376</td>\n      <td>347</td>\n    </tr>\n    <tr>\n      <th>18</th>\n      <td>2004</td>\n      <td>7743</td>\n      <td>7.743</td>\n      <td>347</td>\n    </tr>\n  </tbody>\n</table>\n</div>"
     },
     "execution_count": 35,
     "metadata": {},
     "output_type": "execute_result"
    }
   ],
   "source": [
    "# create new columns for total carbon emission in unit pg and atmospheric CO2 level in ppm and check data\n",
    "data['Total carbon emission in pg'] = data['Total carbon emissions from fossil fuel consumption and cement production (million metric tons of C)'].astype(int)/1000\n",
    "data['CO2 level in ppm'] = 347\n",
    "data"
   ],
   "metadata": {
    "collapsed": false,
    "ExecuteTime": {
     "end_time": "2023-12-10T05:09:44.081998500Z",
     "start_time": "2023-12-10T05:09:44.063020400Z"
    }
   },
   "id": "cce259bd96254440"
  },
  {
   "cell_type": "code",
   "execution_count": 36,
   "outputs": [],
   "source": [
    "# 1.1 \n",
    "# initialization\n",
    "# assume that the speed of transfer speed is stationary\n",
    "k12, k21 = 105/740, 102/900 \n",
    "# the initial value of CO2 in sea and atmosphere\n",
    "N1, N2 = 740, 900\n",
    "# year\n",
    "year = 1987\n",
    "# the total molar of material of atmosphere\n",
    "n0 = 740*10**21/12/347\n",
    "#  the emission of every year\n",
    "gamma =data['Total carbon emission in pg']"
   ],
   "metadata": {
    "collapsed": false,
    "ExecuteTime": {
     "end_time": "2023-12-10T05:09:44.535127800Z",
     "start_time": "2023-12-10T05:09:44.532266100Z"
    }
   },
   "id": "428f4f5d43fcd1d"
  },
  {
   "cell_type": "code",
   "execution_count": 44,
   "outputs": [
    {
     "data": {
      "text/plain": "    Year  \\\n0   1986   \n1   1987   \n2   1988   \n3   1989   \n4   1990   \n5   1991   \n6   1992   \n7   1993   \n8   1994   \n9   1995   \n10  1996   \n11  1997   \n12  1998   \n13  1999   \n14  2000   \n15  2001   \n16  2002   \n17  2003   \n18  2004   \n\n   Total carbon emissions from fossil fuel consumption and cement production (million metric tons of C)  \\\n0                                                5583                                                     \n1                                                5725                                                     \n2                                                5936                                                     \n3                                                6066                                                     \n4                                                6074                                                     \n5                                                6142                                                     \n6                                                6078                                                     \n7                                                6070                                                     \n8                                                6174                                                     \n9                                                6305                                                     \n10                                               6448                                                     \n11                                               6556                                                     \n12                                               6576                                                     \n13                                               6561                                                     \n14                                               6733                                                     \n15                                               6893                                                     \n16                                               6994                                                     \n17                                               7376                                                     \n18                                               7743                                                     \n\n    Total carbon emission in pg  CO2 level in ppm  \n0                         5.583        347.000000  \n1                         5.725        348.277804  \n2                         5.936        349.632672  \n3                         6.066        351.018167  \n4                         6.074        352.376173  \n5                         6.142        353.742265  \n6                         6.078        355.056096  \n7                         6.070        356.353864  \n8                         6.174        357.691760  \n9                         6.305        359.077733  \n10                        6.448        360.512099  \n11                        6.556        361.973696  \n12                        6.576        363.420047  \n13                        6.561        364.839695  \n14                        6.733        366.326347  \n15                        6.893        367.866413  \n16                        6.994        369.427100  \n17                        7.376        371.140276  \n18                        7.743        372.980292  ",
      "text/html": "<div>\n<style scoped>\n    .dataframe tbody tr th:only-of-type {\n        vertical-align: middle;\n    }\n\n    .dataframe tbody tr th {\n        vertical-align: top;\n    }\n\n    .dataframe thead th {\n        text-align: right;\n    }\n</style>\n<table border=\"1\" class=\"dataframe\">\n  <thead>\n    <tr style=\"text-align: right;\">\n      <th></th>\n      <th>Year</th>\n      <th>Total carbon emissions from fossil fuel consumption and cement production (million metric tons of C)</th>\n      <th>Total carbon emission in pg</th>\n      <th>CO2 level in ppm</th>\n    </tr>\n  </thead>\n  <tbody>\n    <tr>\n      <th>0</th>\n      <td>1986</td>\n      <td>5583</td>\n      <td>5.583</td>\n      <td>347.000000</td>\n    </tr>\n    <tr>\n      <th>1</th>\n      <td>1987</td>\n      <td>5725</td>\n      <td>5.725</td>\n      <td>348.277804</td>\n    </tr>\n    <tr>\n      <th>2</th>\n      <td>1988</td>\n      <td>5936</td>\n      <td>5.936</td>\n      <td>349.632672</td>\n    </tr>\n    <tr>\n      <th>3</th>\n      <td>1989</td>\n      <td>6066</td>\n      <td>6.066</td>\n      <td>351.018167</td>\n    </tr>\n    <tr>\n      <th>4</th>\n      <td>1990</td>\n      <td>6074</td>\n      <td>6.074</td>\n      <td>352.376173</td>\n    </tr>\n    <tr>\n      <th>5</th>\n      <td>1991</td>\n      <td>6142</td>\n      <td>6.142</td>\n      <td>353.742265</td>\n    </tr>\n    <tr>\n      <th>6</th>\n      <td>1992</td>\n      <td>6078</td>\n      <td>6.078</td>\n      <td>355.056096</td>\n    </tr>\n    <tr>\n      <th>7</th>\n      <td>1993</td>\n      <td>6070</td>\n      <td>6.070</td>\n      <td>356.353864</td>\n    </tr>\n    <tr>\n      <th>8</th>\n      <td>1994</td>\n      <td>6174</td>\n      <td>6.174</td>\n      <td>357.691760</td>\n    </tr>\n    <tr>\n      <th>9</th>\n      <td>1995</td>\n      <td>6305</td>\n      <td>6.305</td>\n      <td>359.077733</td>\n    </tr>\n    <tr>\n      <th>10</th>\n      <td>1996</td>\n      <td>6448</td>\n      <td>6.448</td>\n      <td>360.512099</td>\n    </tr>\n    <tr>\n      <th>11</th>\n      <td>1997</td>\n      <td>6556</td>\n      <td>6.556</td>\n      <td>361.973696</td>\n    </tr>\n    <tr>\n      <th>12</th>\n      <td>1998</td>\n      <td>6576</td>\n      <td>6.576</td>\n      <td>363.420047</td>\n    </tr>\n    <tr>\n      <th>13</th>\n      <td>1999</td>\n      <td>6561</td>\n      <td>6.561</td>\n      <td>364.839695</td>\n    </tr>\n    <tr>\n      <th>14</th>\n      <td>2000</td>\n      <td>6733</td>\n      <td>6.733</td>\n      <td>366.326347</td>\n    </tr>\n    <tr>\n      <th>15</th>\n      <td>2001</td>\n      <td>6893</td>\n      <td>6.893</td>\n      <td>367.866413</td>\n    </tr>\n    <tr>\n      <th>16</th>\n      <td>2002</td>\n      <td>6994</td>\n      <td>6.994</td>\n      <td>369.427100</td>\n    </tr>\n    <tr>\n      <th>17</th>\n      <td>2003</td>\n      <td>7376</td>\n      <td>7.376</td>\n      <td>371.140276</td>\n    </tr>\n    <tr>\n      <th>18</th>\n      <td>2004</td>\n      <td>7743</td>\n      <td>7.743</td>\n      <td>372.980292</td>\n    </tr>\n  </tbody>\n</table>\n</div>"
     },
     "execution_count": 44,
     "metadata": {},
     "output_type": "execute_result"
    }
   ],
   "source": [
    "# start iteration\n",
    "for year in range(1987,2005):\n",
    "    # calculate the change of CO2 in sea and atmosphere\n",
    "    dN1 = -k12*N1 + k21*N2 + gamma[year-1986]\n",
    "    dN2 = k12*N1 - k21*N2\n",
    "    # update the CO2 in sea and atmosphere\n",
    "    N1 += dN1\n",
    "    N2 += dN2\n",
    "    # update the CO2 level in ppm\n",
    "    data['CO2 level in ppm'][year-1986] = N1*10**21/12/n0\n",
    "\n",
    "# initialize value again to avoid the error by repeating the iteration\n",
    "N1, N2 = 740, 900\n",
    "\n",
    "# check data\n",
    "data"
   ],
   "metadata": {
    "collapsed": false,
    "ExecuteTime": {
     "end_time": "2023-12-10T05:13:55.353832600Z",
     "start_time": "2023-12-10T05:13:55.343810400Z"
    }
   },
   "id": "98704e92e9a2c349"
  },
  {
   "cell_type": "code",
   "execution_count": 41,
   "outputs": [
    {
     "data": {
      "text/plain": "    Year  \\\n0   1986   \n1   1987   \n2   1988   \n3   1989   \n4   1990   \n5   1991   \n6   1992   \n7   1993   \n8   1994   \n9   1995   \n10  1996   \n11  1997   \n12  1998   \n13  1999   \n14  2000   \n15  2001   \n16  2002   \n17  2003   \n18  2004   \n\n   Total carbon emissions from fossil fuel consumption and cement production (million metric tons of C)  \\\n0                                                5583                                                     \n1                                                5725                                                     \n2                                                5936                                                     \n3                                                6066                                                     \n4                                                6074                                                     \n5                                                6142                                                     \n6                                                6078                                                     \n7                                                6070                                                     \n8                                                6174                                                     \n9                                                6305                                                     \n10                                               6448                                                     \n11                                               6556                                                     \n12                                               6576                                                     \n13                                               6561                                                     \n14                                               6733                                                     \n15                                               6893                                                     \n16                                               6994                                                     \n17                                               7376                                                     \n18                                               7743                                                     \n\n    Total carbon emission in pg  CO2 level in ppm  \n0                         5.583        347.000000  \n1                         5.725        348.277804  \n2                         5.936        349.632672  \n3                         6.066        351.018167  \n4                         6.074        352.376173  \n5                         6.142        353.742265  \n6                         6.078        355.056096  \n7                         6.070        356.353864  \n8                         6.174        357.691760  \n9                         6.305        359.077733  \n10                        6.448        360.512099  \n11                        6.556        361.973696  \n12                        6.576        363.420047  \n13                        6.561        364.839695  \n14                        6.733        366.326347  \n15                        6.893        367.866413  \n16                        6.994        369.427100  \n17                        7.376        371.140276  \n18                        7.743        372.980292  ",
      "text/html": "<div>\n<style scoped>\n    .dataframe tbody tr th:only-of-type {\n        vertical-align: middle;\n    }\n\n    .dataframe tbody tr th {\n        vertical-align: top;\n    }\n\n    .dataframe thead th {\n        text-align: right;\n    }\n</style>\n<table border=\"1\" class=\"dataframe\">\n  <thead>\n    <tr style=\"text-align: right;\">\n      <th></th>\n      <th>Year</th>\n      <th>Total carbon emissions from fossil fuel consumption and cement production (million metric tons of C)</th>\n      <th>Total carbon emission in pg</th>\n      <th>CO2 level in ppm</th>\n    </tr>\n  </thead>\n  <tbody>\n    <tr>\n      <th>0</th>\n      <td>1986</td>\n      <td>5583</td>\n      <td>5.583</td>\n      <td>347.000000</td>\n    </tr>\n    <tr>\n      <th>1</th>\n      <td>1987</td>\n      <td>5725</td>\n      <td>5.725</td>\n      <td>348.277804</td>\n    </tr>\n    <tr>\n      <th>2</th>\n      <td>1988</td>\n      <td>5936</td>\n      <td>5.936</td>\n      <td>349.632672</td>\n    </tr>\n    <tr>\n      <th>3</th>\n      <td>1989</td>\n      <td>6066</td>\n      <td>6.066</td>\n      <td>351.018167</td>\n    </tr>\n    <tr>\n      <th>4</th>\n      <td>1990</td>\n      <td>6074</td>\n      <td>6.074</td>\n      <td>352.376173</td>\n    </tr>\n    <tr>\n      <th>5</th>\n      <td>1991</td>\n      <td>6142</td>\n      <td>6.142</td>\n      <td>353.742265</td>\n    </tr>\n    <tr>\n      <th>6</th>\n      <td>1992</td>\n      <td>6078</td>\n      <td>6.078</td>\n      <td>355.056096</td>\n    </tr>\n    <tr>\n      <th>7</th>\n      <td>1993</td>\n      <td>6070</td>\n      <td>6.070</td>\n      <td>356.353864</td>\n    </tr>\n    <tr>\n      <th>8</th>\n      <td>1994</td>\n      <td>6174</td>\n      <td>6.174</td>\n      <td>357.691760</td>\n    </tr>\n    <tr>\n      <th>9</th>\n      <td>1995</td>\n      <td>6305</td>\n      <td>6.305</td>\n      <td>359.077733</td>\n    </tr>\n    <tr>\n      <th>10</th>\n      <td>1996</td>\n      <td>6448</td>\n      <td>6.448</td>\n      <td>360.512099</td>\n    </tr>\n    <tr>\n      <th>11</th>\n      <td>1997</td>\n      <td>6556</td>\n      <td>6.556</td>\n      <td>361.973696</td>\n    </tr>\n    <tr>\n      <th>12</th>\n      <td>1998</td>\n      <td>6576</td>\n      <td>6.576</td>\n      <td>363.420047</td>\n    </tr>\n    <tr>\n      <th>13</th>\n      <td>1999</td>\n      <td>6561</td>\n      <td>6.561</td>\n      <td>364.839695</td>\n    </tr>\n    <tr>\n      <th>14</th>\n      <td>2000</td>\n      <td>6733</td>\n      <td>6.733</td>\n      <td>366.326347</td>\n    </tr>\n    <tr>\n      <th>15</th>\n      <td>2001</td>\n      <td>6893</td>\n      <td>6.893</td>\n      <td>367.866413</td>\n    </tr>\n    <tr>\n      <th>16</th>\n      <td>2002</td>\n      <td>6994</td>\n      <td>6.994</td>\n      <td>369.427100</td>\n    </tr>\n    <tr>\n      <th>17</th>\n      <td>2003</td>\n      <td>7376</td>\n      <td>7.376</td>\n      <td>371.140276</td>\n    </tr>\n    <tr>\n      <th>18</th>\n      <td>2004</td>\n      <td>7743</td>\n      <td>7.743</td>\n      <td>372.980292</td>\n    </tr>\n  </tbody>\n</table>\n</div>"
     },
     "execution_count": 41,
     "metadata": {},
     "output_type": "execute_result"
    }
   ],
   "source": [],
   "metadata": {
    "collapsed": false,
    "ExecuteTime": {
     "end_time": "2023-12-10T05:09:47.389430900Z",
     "start_time": "2023-12-10T05:09:47.381930400Z"
    }
   },
   "id": "9996430918382a55"
  },
  {
   "cell_type": "code",
   "execution_count": null,
   "outputs": [],
   "source": [],
   "metadata": {
    "collapsed": false
   },
   "id": "99721766d5433e40"
  }
 ],
 "metadata": {
  "kernelspec": {
   "display_name": "Python 3",
   "language": "python",
   "name": "python3"
  },
  "language_info": {
   "codemirror_mode": {
    "name": "ipython",
    "version": 2
   },
   "file_extension": ".py",
   "mimetype": "text/x-python",
   "name": "python",
   "nbconvert_exporter": "python",
   "pygments_lexer": "ipython2",
   "version": "2.7.6"
  }
 },
 "nbformat": 4,
 "nbformat_minor": 5
}
