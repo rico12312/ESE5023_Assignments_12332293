{
 "cells": [
  {
   "cell_type": "code",
   "execution_count": 174,
   "id": "c252406459daf224",
   "metadata": {
    "collapsed": true,
    "ExecuteTime": {
     "end_time": "2023-11-08T05:29:28.711985900Z",
     "start_time": "2023-11-08T05:29:28.707682300Z"
    }
   },
   "outputs": [],
   "source": [
    "# ZhunleiZhou taught me many handy functions, and some materials form csdn inspired me.\n",
    "# import library\n",
    "import pandas as pd\n",
    "import numpy as np\n",
    "from matplotlib import pyplot as plt"
   ]
  },
  {
   "cell_type": "code",
   "execution_count": 175,
   "outputs": [
    {
     "name": "stdout",
     "output_type": "stream",
     "text": [
      "<class 'pandas.core.frame.DataFrame'>\n",
      "RangeIndex: 6399 entries, 0 to 6398\n",
      "Data columns (total 49 columns):\n",
      " #   Column                              Non-Null Count  Dtype  \n",
      "---  ------                              --------------  -----  \n",
      " 0   Search Parameters                   1 non-null      object \n",
      " 1   Id                                  6398 non-null   float64\n",
      " 2   Year                                6398 non-null   float64\n",
      " 3   Mo                                  5989 non-null   float64\n",
      " 4   Dy                                  5833 non-null   float64\n",
      " 5   Hr                                  4346 non-null   float64\n",
      " 6   Mn                                  4137 non-null   float64\n",
      " 7   Sec                                 4361 non-null   float64\n",
      " 8   Tsu                                 1979 non-null   float64\n",
      " 9   Vol                                 77 non-null     float64\n",
      " 10  Country                             6397 non-null   object \n",
      " 11  Area                                331 non-null    object \n",
      " 12  Region                              6398 non-null   float64\n",
      " 13  Location Name                       6397 non-null   object \n",
      " 14  Latitude                            6344 non-null   float64\n",
      " 15  Longitude                           6344 non-null   float64\n",
      " 16  Focal Depth (km)                    3423 non-null   float64\n",
      " 17  Mag                                 4622 non-null   float64\n",
      " 18  Mw                                  1646 non-null   float64\n",
      " 19  Ms                                  2999 non-null   float64\n",
      " 20  Mb                                  1837 non-null   float64\n",
      " 21  Ml                                  190 non-null    float64\n",
      " 22  Mfa                                 14 non-null     float64\n",
      " 23  Unk                                 791 non-null    float64\n",
      " 24  MMI Int                             3107 non-null   float64\n",
      " 25  Deaths                              2165 non-null   float64\n",
      " 26  Death Description                   2646 non-null   float64\n",
      " 27  Missing                             25 non-null     float64\n",
      " 28  Missing Description                 26 non-null     float64\n",
      " 29  Injuries                            1373 non-null   float64\n",
      " 30  Injuries Description                1602 non-null   float64\n",
      " 31  Damage ($Mil)                       569 non-null    float64\n",
      " 32  Damage Description                  4637 non-null   float64\n",
      " 33  Houses Destroyed                    876 non-null    float64\n",
      " 34  Houses Destroyed Description        1877 non-null   float64\n",
      " 35  Houses Damaged                      562 non-null    float64\n",
      " 36  Houses Damaged Description          1097 non-null   float64\n",
      " 37  Total Deaths                        1981 non-null   float64\n",
      " 38  Total Death Description             2356 non-null   float64\n",
      " 39  Total Missing                       28 non-null     float64\n",
      " 40  Total Missing Description           32 non-null     float64\n",
      " 41  Total Injuries                      1397 non-null   float64\n",
      " 42  Total Injuries Description          1626 non-null   float64\n",
      " 43  Total Damage ($Mil)                 549 non-null    float64\n",
      " 44  Total Damage Description            3741 non-null   float64\n",
      " 45  Total Houses Destroyed              908 non-null    float64\n",
      " 46  Total Houses Destroyed Description  1960 non-null   float64\n",
      " 47  Total Houses Damaged                507 non-null    float64\n",
      " 48  Total Houses Damaged Description    989 non-null    float64\n",
      "dtypes: float64(45), object(4)\n",
      "memory usage: 2.4+ MB\n"
     ]
    }
   ],
   "source": [
    "# Promblem 1\n",
    "# Read the file  as an object and name it Sig_Eqs.\n",
    "Sig_Eqs = pd.read_csv('data.tsv', sep='\\t')\n",
    "\n",
    "# Check information\n",
    "Sig_Eqs.info()\n"
   ],
   "metadata": {
    "collapsed": false,
    "ExecuteTime": {
     "end_time": "2023-11-08T05:29:29.281966700Z",
     "start_time": "2023-11-08T05:29:29.259030600Z"
    }
   },
   "id": "initial_id"
  },
  {
   "cell_type": "code",
   "execution_count": 176,
   "outputs": [
    {
     "data": {
      "text/plain": "  Search Parameters      Id    Year  Mo  Dy  Hr  Mn  Sec  Tsu     Vol  ...  \\\n0                []     NaN     NaN NaN NaN NaN NaN  NaN  NaN     NaN  ...   \n1               NaN     1.0 -2150.0 NaN NaN NaN NaN  NaN  NaN     NaN  ...   \n2               NaN     2.0 -2000.0 NaN NaN NaN NaN  NaN  1.0     NaN  ...   \n3               NaN     3.0 -2000.0 NaN NaN NaN NaN  NaN  NaN     NaN  ...   \n4               NaN  5877.0 -1610.0 NaN NaN NaN NaN  NaN  3.0  1351.0  ...   \n\n  Total Missing Total Missing Description  Total Injuries  \\\n0           NaN                       NaN             NaN   \n1           NaN                       NaN             NaN   \n2           NaN                       NaN             NaN   \n3           NaN                       NaN             NaN   \n4           NaN                       NaN             NaN   \n\n  Total Injuries Description  Total Damage ($Mil)  Total Damage Description  \\\n0                        NaN                  NaN                       NaN   \n1                        NaN                  NaN                       NaN   \n2                        NaN                  NaN                       NaN   \n3                        NaN                  NaN                       1.0   \n4                        NaN                  NaN                       3.0   \n\n   Total Houses Destroyed  Total Houses Destroyed Description  \\\n0                     NaN                                 NaN   \n1                     NaN                                 NaN   \n2                     NaN                                 NaN   \n3                     NaN                                 1.0   \n4                     NaN                                 NaN   \n\n   Total Houses Damaged  Total Houses Damaged Description  \n0                   NaN                               NaN  \n1                   NaN                               NaN  \n2                   NaN                               NaN  \n3                   NaN                               NaN  \n4                   NaN                               NaN  \n\n[5 rows x 49 columns]",
      "text/html": "<div>\n<style scoped>\n    .dataframe tbody tr th:only-of-type {\n        vertical-align: middle;\n    }\n\n    .dataframe tbody tr th {\n        vertical-align: top;\n    }\n\n    .dataframe thead th {\n        text-align: right;\n    }\n</style>\n<table border=\"1\" class=\"dataframe\">\n  <thead>\n    <tr style=\"text-align: right;\">\n      <th></th>\n      <th>Search Parameters</th>\n      <th>Id</th>\n      <th>Year</th>\n      <th>Mo</th>\n      <th>Dy</th>\n      <th>Hr</th>\n      <th>Mn</th>\n      <th>Sec</th>\n      <th>Tsu</th>\n      <th>Vol</th>\n      <th>...</th>\n      <th>Total Missing</th>\n      <th>Total Missing Description</th>\n      <th>Total Injuries</th>\n      <th>Total Injuries Description</th>\n      <th>Total Damage ($Mil)</th>\n      <th>Total Damage Description</th>\n      <th>Total Houses Destroyed</th>\n      <th>Total Houses Destroyed Description</th>\n      <th>Total Houses Damaged</th>\n      <th>Total Houses Damaged Description</th>\n    </tr>\n  </thead>\n  <tbody>\n    <tr>\n      <th>0</th>\n      <td>[]</td>\n      <td>NaN</td>\n      <td>NaN</td>\n      <td>NaN</td>\n      <td>NaN</td>\n      <td>NaN</td>\n      <td>NaN</td>\n      <td>NaN</td>\n      <td>NaN</td>\n      <td>NaN</td>\n      <td>...</td>\n      <td>NaN</td>\n      <td>NaN</td>\n      <td>NaN</td>\n      <td>NaN</td>\n      <td>NaN</td>\n      <td>NaN</td>\n      <td>NaN</td>\n      <td>NaN</td>\n      <td>NaN</td>\n      <td>NaN</td>\n    </tr>\n    <tr>\n      <th>1</th>\n      <td>NaN</td>\n      <td>1.0</td>\n      <td>-2150.0</td>\n      <td>NaN</td>\n      <td>NaN</td>\n      <td>NaN</td>\n      <td>NaN</td>\n      <td>NaN</td>\n      <td>NaN</td>\n      <td>NaN</td>\n      <td>...</td>\n      <td>NaN</td>\n      <td>NaN</td>\n      <td>NaN</td>\n      <td>NaN</td>\n      <td>NaN</td>\n      <td>NaN</td>\n      <td>NaN</td>\n      <td>NaN</td>\n      <td>NaN</td>\n      <td>NaN</td>\n    </tr>\n    <tr>\n      <th>2</th>\n      <td>NaN</td>\n      <td>2.0</td>\n      <td>-2000.0</td>\n      <td>NaN</td>\n      <td>NaN</td>\n      <td>NaN</td>\n      <td>NaN</td>\n      <td>NaN</td>\n      <td>1.0</td>\n      <td>NaN</td>\n      <td>...</td>\n      <td>NaN</td>\n      <td>NaN</td>\n      <td>NaN</td>\n      <td>NaN</td>\n      <td>NaN</td>\n      <td>NaN</td>\n      <td>NaN</td>\n      <td>NaN</td>\n      <td>NaN</td>\n      <td>NaN</td>\n    </tr>\n    <tr>\n      <th>3</th>\n      <td>NaN</td>\n      <td>3.0</td>\n      <td>-2000.0</td>\n      <td>NaN</td>\n      <td>NaN</td>\n      <td>NaN</td>\n      <td>NaN</td>\n      <td>NaN</td>\n      <td>NaN</td>\n      <td>NaN</td>\n      <td>...</td>\n      <td>NaN</td>\n      <td>NaN</td>\n      <td>NaN</td>\n      <td>NaN</td>\n      <td>NaN</td>\n      <td>1.0</td>\n      <td>NaN</td>\n      <td>1.0</td>\n      <td>NaN</td>\n      <td>NaN</td>\n    </tr>\n    <tr>\n      <th>4</th>\n      <td>NaN</td>\n      <td>5877.0</td>\n      <td>-1610.0</td>\n      <td>NaN</td>\n      <td>NaN</td>\n      <td>NaN</td>\n      <td>NaN</td>\n      <td>NaN</td>\n      <td>3.0</td>\n      <td>1351.0</td>\n      <td>...</td>\n      <td>NaN</td>\n      <td>NaN</td>\n      <td>NaN</td>\n      <td>NaN</td>\n      <td>NaN</td>\n      <td>3.0</td>\n      <td>NaN</td>\n      <td>NaN</td>\n      <td>NaN</td>\n      <td>NaN</td>\n    </tr>\n  </tbody>\n</table>\n<p>5 rows × 49 columns</p>\n</div>"
     },
     "execution_count": 176,
     "metadata": {},
     "output_type": "execute_result"
    }
   ],
   "source": [
    "# Show header.head()\n",
    "Sig_Eqs.head()"
   ],
   "metadata": {
    "collapsed": false,
    "ExecuteTime": {
     "end_time": "2023-11-08T05:29:29.759422700Z",
     "start_time": "2023-11-08T05:29:29.739272200Z"
    }
   },
   "id": "746e46232981cab2"
  },
  {
   "cell_type": "code",
   "execution_count": 177,
   "outputs": [
    {
     "data": {
      "text/plain": "Country\nAFGHANISTAN                             15644.0\nALBANIA                                  3132.0\nALGERIA                                 39339.0\nANTARCTICA                                  0.0\nANTIGUA AND BARBUDA                         0.0\n                                         ...   \nVENEZUELA                               44480.0\nVIETNAM                                     0.0\nWALLIS AND FUTUNA (FRENCH TERRITORY)        5.0\nYEMEN                                    4192.0\nZAMBIA                                      0.0\nName: Deaths, Length: 156, dtype: float64"
     },
     "execution_count": 177,
     "metadata": {},
     "output_type": "execute_result"
    }
   ],
   "source": [
    "# 1.1\n",
    "# calculate the sum of death for every country\n",
    "deaths_for_country = Sig_Eqs.groupby('Country')['Deaths'].sum()\n",
    "deaths_for_country"
   ],
   "metadata": {
    "collapsed": false,
    "ExecuteTime": {
     "end_time": "2023-11-08T05:29:30.127303200Z",
     "start_time": "2023-11-08T05:29:30.119488600Z"
    }
   },
   "id": "d14834601f5d794c"
  },
  {
   "cell_type": "code",
   "execution_count": 178,
   "outputs": [
    {
     "name": "stdout",
     "output_type": "stream",
     "text": [
      "Country\n",
      "CHINA         2075045.0\n",
      "TURKEY        1188881.0\n",
      "IRAN          1011449.0\n",
      "ITALY          498478.0\n",
      "SYRIA          439224.0\n",
      "HAITI          323478.0\n",
      "AZERBAIJAN     317219.0\n",
      "JAPAN          279085.0\n",
      "ARMENIA        191890.0\n",
      "PAKISTAN       145083.0\n",
      "Name: Deaths, dtype: float64\n"
     ]
    }
   ],
   "source": [
    "# sort and print the top ten\n",
    "top_ten = deaths_for_country.sort_values(ascending=False).head(10)\n",
    "print(top_ten)"
   ],
   "metadata": {
    "collapsed": false,
    "ExecuteTime": {
     "end_time": "2023-11-08T05:29:30.541645Z",
     "start_time": "2023-11-08T05:29:30.537335900Z"
    }
   },
   "id": "5b02a492f0f358b5"
  },
  {
   "cell_type": "code",
   "execution_count": 179,
   "outputs": [],
   "source": [
    "#1.2\n",
    "# find out earthquakes with a magnitude larger than 6.0\n",
    "strong_earthquake = Sig_Eqs[Sig_Eqs['Mag'] > 6.0]"
   ],
   "metadata": {
    "collapsed": false,
    "ExecuteTime": {
     "end_time": "2023-11-08T05:29:31.037973100Z",
     "start_time": "2023-11-08T05:29:31.031096400Z"
    }
   },
   "id": "34f99203132d8ade"
  },
  {
   "cell_type": "code",
   "execution_count": 180,
   "outputs": [
    {
     "data": {
      "text/plain": "<Axes: title={'center': 'Annual number of Earthquakes   with a magnitude larger than 6.0 '}, xlabel='Year'>"
     },
     "execution_count": 180,
     "metadata": {},
     "output_type": "execute_result"
    },
    {
     "data": {
      "text/plain": "<Figure size 640x480 with 1 Axes>",
      "image/png": "[encoded data removed]"
     },
     "metadata": {},
     "output_type": "display_data"
    }
   ],
   "source": [
    "# count \n",
    "annual_earthquake = Sig_Eqs.groupby('Year')['Mag'].count()\n",
    "annual_earthquake.plot(title='Annual number of Earthquakes   with a magnitude larger than 6.0 ')\n"
   ],
   "metadata": {
    "collapsed": false,
    "ExecuteTime": {
     "end_time": "2023-11-08T05:29:31.532613400Z",
     "start_time": "2023-11-08T05:29:31.470755600Z"
    }
   },
   "id": "8ca86111f19aaae5"
  },
  {
   "cell_type": "code",
   "execution_count": 181,
   "outputs": [],
   "source": [
    "#1.3\n",
    "def CountEq_LargestEq(country):\n",
    "    country_data = Sig_Eqs[Sig_Eqs['Country'] == country]\n",
    "    \n",
    "    #return the number of lines\n",
    "    number = Sig_Eqs[Sig_Eqs['Country'] == country].shape[0]\n",
    "    \n",
    "    # find the maximum\n",
    "    rank = country_data['Mag'].rank(ascending = False,method=\"min\")\n",
    "    \n",
    "    # find the data corresponding to the maximum\n",
    "    data = country_data.loc[rank == 1, ['Year', 'Mo', 'Dy']].reset_index(drop=True)\n",
    "    data.index = data.index + 1\n",
    "    data.insert(0, 'Number', number)\n",
    "    data.insert(0, 'Country', country)\n",
    "    \n",
    "    return  data"
   ],
   "metadata": {
    "collapsed": false,
    "ExecuteTime": {
     "end_time": "2023-11-08T05:29:31.854772900Z",
     "start_time": "2023-11-08T05:29:31.845739900Z"
    }
   },
   "id": "822bbf033cfd3e37"
  },
  {
   "cell_type": "code",
   "execution_count": 210,
   "outputs": [
    {
     "data": {
      "text/plain": "                      Country  Number    Year    Mo    Dy   Rank\n0                       CHINA     620  1668.0   7.0  25.0    1.0\n1                       JAPAN     414  2011.0   3.0  11.0    2.0\n2                   INDONESIA     411  2004.0  12.0  26.0    3.0\n3                        IRAN     384   856.0  12.0  22.0    4.0\n4                      TURKEY     335  2023.0   2.0   6.0    5.0\n..                        ...     ...     ...   ...   ...    ...\n164  CENTRAL AFRICAN REPUBLIC       1  1921.0   9.0  16.0  151.0\n165                    NORWAY       1  1819.0   8.0  31.0  151.0\n166                     PALAU       1  1914.0  10.0  23.0  151.0\n167          FRENCH POLYNESIA       1  1848.0   7.0  12.0  151.0\n168                   COMOROS       1  2018.0   5.0  15.0  151.0\n\n[169 rows x 6 columns]",
      "text/html": "<div>\n<style scoped>\n    .dataframe tbody tr th:only-of-type {\n        vertical-align: middle;\n    }\n\n    .dataframe tbody tr th {\n        vertical-align: top;\n    }\n\n    .dataframe thead th {\n        text-align: right;\n    }\n</style>\n<table border=\"1\" class=\"dataframe\">\n  <thead>\n    <tr style=\"text-align: right;\">\n      <th></th>\n      <th>Country</th>\n      <th>Number</th>\n      <th>Year</th>\n      <th>Mo</th>\n      <th>Dy</th>\n      <th>Rank</th>\n    </tr>\n  </thead>\n  <tbody>\n    <tr>\n      <th>0</th>\n      <td>CHINA</td>\n      <td>620</td>\n      <td>1668.0</td>\n      <td>7.0</td>\n      <td>25.0</td>\n      <td>1.0</td>\n    </tr>\n    <tr>\n      <th>1</th>\n      <td>JAPAN</td>\n      <td>414</td>\n      <td>2011.0</td>\n      <td>3.0</td>\n      <td>11.0</td>\n      <td>2.0</td>\n    </tr>\n    <tr>\n      <th>2</th>\n      <td>INDONESIA</td>\n      <td>411</td>\n      <td>2004.0</td>\n      <td>12.0</td>\n      <td>26.0</td>\n      <td>3.0</td>\n    </tr>\n    <tr>\n      <th>3</th>\n      <td>IRAN</td>\n      <td>384</td>\n      <td>856.0</td>\n      <td>12.0</td>\n      <td>22.0</td>\n      <td>4.0</td>\n    </tr>\n    <tr>\n      <th>4</th>\n      <td>TURKEY</td>\n      <td>335</td>\n      <td>2023.0</td>\n      <td>2.0</td>\n      <td>6.0</td>\n      <td>5.0</td>\n    </tr>\n    <tr>\n      <th>...</th>\n      <td>...</td>\n      <td>...</td>\n      <td>...</td>\n      <td>...</td>\n      <td>...</td>\n      <td>...</td>\n    </tr>\n    <tr>\n      <th>164</th>\n      <td>CENTRAL AFRICAN REPUBLIC</td>\n      <td>1</td>\n      <td>1921.0</td>\n      <td>9.0</td>\n      <td>16.0</td>\n      <td>151.0</td>\n    </tr>\n    <tr>\n      <th>165</th>\n      <td>NORWAY</td>\n      <td>1</td>\n      <td>1819.0</td>\n      <td>8.0</td>\n      <td>31.0</td>\n      <td>151.0</td>\n    </tr>\n    <tr>\n      <th>166</th>\n      <td>PALAU</td>\n      <td>1</td>\n      <td>1914.0</td>\n      <td>10.0</td>\n      <td>23.0</td>\n      <td>151.0</td>\n    </tr>\n    <tr>\n      <th>167</th>\n      <td>FRENCH POLYNESIA</td>\n      <td>1</td>\n      <td>1848.0</td>\n      <td>7.0</td>\n      <td>12.0</td>\n      <td>151.0</td>\n    </tr>\n    <tr>\n      <th>168</th>\n      <td>COMOROS</td>\n      <td>1</td>\n      <td>2018.0</td>\n      <td>5.0</td>\n      <td>15.0</td>\n      <td>151.0</td>\n    </tr>\n  </tbody>\n</table>\n<p>169 rows × 6 columns</p>\n</div>"
     },
     "execution_count": 210,
     "metadata": {},
     "output_type": "execute_result"
    }
   ],
   "source": [
    "#clear the nan\n",
    "Sig_Eqs_nonan= Sig_Eqs.dropna(subset=['Country'])\n",
    "\n",
    "# store the all result\n",
    "Data = pd.DataFrame()\n",
    "\n",
    "# apply the CountEq_LargestEq(country) to all countries\n",
    "for Country in Sig_Eqs_nonan['Country'].unique():\n",
    "    country_result = CountEq_LargestEq(Country)\n",
    "    Data = pd.concat([Data, country_result])\n",
    "\n",
    "Data_sorted=Data.sort_values('Number',ascending=False)\n",
    "Data_sorted.reset_index(drop=True, inplace=True)\n",
    "Data_sorted\n",
    "Data_sorted['Rank'] = Data_sorted['Number'].rank(ascending=False, method='min')\n",
    "Data_sorted\n",
    "\n"
   ],
   "metadata": {
    "collapsed": false,
    "ExecuteTime": {
     "end_time": "2023-11-08T06:07:26.441893900Z",
     "start_time": "2023-11-08T06:07:26.259692200Z"
    }
   },
   "id": "9abc0b4a7c1c1e91"
  },
  {
   "cell_type": "code",
   "execution_count": 183,
   "outputs": [
    {
     "name": "stderr",
     "output_type": "stream",
     "text": [
      "C:\\Users\\malinqiang\\AppData\\Local\\Temp\\ipykernel_15044\\2193020219.py:2: DtypeWarning: Columns (4,8,9,12,15,21,22,24,26,31,33,34) have mixed types. Specify dtype option on import or set low_memory=False.\n",
      "  wind_data = pd.read_csv(\"2281305.csv\")\n"
     ]
    }
   ],
   "source": [
    "# problem2\n",
    "wind_data = pd.read_csv(\"2281305.csv\")"
   ],
   "metadata": {
    "collapsed": false,
    "ExecuteTime": {
     "end_time": "2023-11-08T05:29:33.079611200Z",
     "start_time": "2023-11-08T05:29:32.696727900Z"
    }
   },
   "id": "3434bcf6677aaf5c"
  },
  {
   "cell_type": "code",
   "execution_count": 184,
   "outputs": [
    {
     "name": "stdout",
     "output_type": "stream",
     "text": [
      "<class 'pandas.core.frame.DataFrame'>\n",
      "RangeIndex: 111984 entries, 0 to 111983\n",
      "Data columns (total 43 columns):\n",
      " #   Column             Non-Null Count   Dtype \n",
      "---  ------             --------------   ----- \n",
      " 0   STATION            111984 non-null  int64 \n",
      " 1   DATE               111984 non-null  object\n",
      " 2   SOURCE             111984 non-null  int64 \n",
      " 3   REPORT_TYPE        111984 non-null  object\n",
      " 4   CALL_SIGN          111984 non-null  object\n",
      " 5   QUALITY_CONTROL    111984 non-null  object\n",
      " 6   AA1                6493 non-null    object\n",
      " 7   AA2                1752 non-null    object\n",
      " 8   AA3                490 non-null     object\n",
      " 9   AJ1                12 non-null      object\n",
      " 10  AY1                5889 non-null    object\n",
      " 11  AY2                4384 non-null    object\n",
      " 12  CALL_SIGN.1        111984 non-null  object\n",
      " 13  CIG                111984 non-null  object\n",
      " 14  DEW                111984 non-null  object\n",
      " 15  ED1                423 non-null     object\n",
      " 16  EQD                4738 non-null    object\n",
      " 17  GA1                68703 non-null   object\n",
      " 18  GA2                21508 non-null   object\n",
      " 19  GA3                4220 non-null    object\n",
      " 20  GA4                186 non-null     object\n",
      " 21  GA5                1 non-null       object\n",
      " 22  GE1                42777 non-null   object\n",
      " 23  GF1                85807 non-null   object\n",
      " 24  IA2                482 non-null     object\n",
      " 25  KA1                7647 non-null    object\n",
      " 26  KA2                504 non-null     object\n",
      " 27  MA1                95116 non-null   object\n",
      " 28  MD1                29081 non-null   object\n",
      " 29  MW1                26426 non-null   object\n",
      " 30  MW2                1823 non-null    object\n",
      " 31  MW3                26 non-null      object\n",
      " 32  OC1                1134 non-null    object\n",
      " 33  OD1                541 non-null     object\n",
      " 34  OD2                1 non-null       object\n",
      " 35  QUALITY_CONTROL.1  111984 non-null  object\n",
      " 36  REM                111984 non-null  object\n",
      " 37  REPORT_TYPE.1      111984 non-null  object\n",
      " 38  SLP                111984 non-null  object\n",
      " 39  SOURCE.1           111984 non-null  int64 \n",
      " 40  TMP                111984 non-null  object\n",
      " 41  VIS                111984 non-null  object\n",
      " 42  WND                111984 non-null  object\n",
      "dtypes: int64(3), object(40)\n",
      "memory usage: 36.7+ MB\n"
     ]
    }
   ],
   "source": [
    "# check and extract the needed data\n",
    "wind_data.info()\n",
    "wind_date_need=wind_data[[\"DATE\", \"WND\"]]"
   ],
   "metadata": {
    "collapsed": false,
    "ExecuteTime": {
     "end_time": "2023-11-08T05:29:33.243540500Z",
     "start_time": "2023-11-08T05:29:33.187272500Z"
    }
   },
   "id": "caf590b961904a4e"
  },
  {
   "cell_type": "code",
   "execution_count": 185,
   "outputs": [
    {
     "data": {
      "text/plain": "                       DATE             WND\n0       2010-01-02T00:00:00  040,1,N,0020,1\n1       2010-01-02T01:00:00  999,9,V,0010,1\n2       2010-01-02T02:00:00  999,9,C,0000,1\n3       2010-01-02T03:00:00  140,1,N,0010,1\n4       2010-01-02T04:00:00  300,1,N,0040,1\n...                     ...             ...\n111979  2020-09-11T17:00:00  170,1,N,0030,1\n111980  2020-09-11T18:00:00  180,1,N,0040,1\n111981  2020-09-11T19:00:00  220,1,V,0030,1\n111982  2020-09-11T20:00:00  260,1,N,0030,1\n111983  2020-09-11T21:00:00  310,1,V,0020,1\n\n[111984 rows x 2 columns]",
      "text/html": "<div>\n<style scoped>\n    .dataframe tbody tr th:only-of-type {\n        vertical-align: middle;\n    }\n\n    .dataframe tbody tr th {\n        vertical-align: top;\n    }\n\n    .dataframe thead th {\n        text-align: right;\n    }\n</style>\n<table border=\"1\" class=\"dataframe\">\n  <thead>\n    <tr style=\"text-align: right;\">\n      <th></th>\n      <th>DATE</th>\n      <th>WND</th>\n    </tr>\n  </thead>\n  <tbody>\n    <tr>\n      <th>0</th>\n      <td>2010-01-02T00:00:00</td>\n      <td>040,1,N,0020,1</td>\n    </tr>\n    <tr>\n      <th>1</th>\n      <td>2010-01-02T01:00:00</td>\n      <td>999,9,V,0010,1</td>\n    </tr>\n    <tr>\n      <th>2</th>\n      <td>2010-01-02T02:00:00</td>\n      <td>999,9,C,0000,1</td>\n    </tr>\n    <tr>\n      <th>3</th>\n      <td>2010-01-02T03:00:00</td>\n      <td>140,1,N,0010,1</td>\n    </tr>\n    <tr>\n      <th>4</th>\n      <td>2010-01-02T04:00:00</td>\n      <td>300,1,N,0040,1</td>\n    </tr>\n    <tr>\n      <th>...</th>\n      <td>...</td>\n      <td>...</td>\n    </tr>\n    <tr>\n      <th>111979</th>\n      <td>2020-09-11T17:00:00</td>\n      <td>170,1,N,0030,1</td>\n    </tr>\n    <tr>\n      <th>111980</th>\n      <td>2020-09-11T18:00:00</td>\n      <td>180,1,N,0040,1</td>\n    </tr>\n    <tr>\n      <th>111981</th>\n      <td>2020-09-11T19:00:00</td>\n      <td>220,1,V,0030,1</td>\n    </tr>\n    <tr>\n      <th>111982</th>\n      <td>2020-09-11T20:00:00</td>\n      <td>260,1,N,0030,1</td>\n    </tr>\n    <tr>\n      <th>111983</th>\n      <td>2020-09-11T21:00:00</td>\n      <td>310,1,V,0020,1</td>\n    </tr>\n  </tbody>\n</table>\n<p>111984 rows × 2 columns</p>\n</div>"
     },
     "execution_count": 185,
     "metadata": {},
     "output_type": "execute_result"
    }
   ],
   "source": [
    "wind_date_need"
   ],
   "metadata": {
    "collapsed": false,
    "ExecuteTime": {
     "end_time": "2023-11-08T05:29:34.045722100Z",
     "start_time": "2023-11-08T05:29:34.032551500Z"
    }
   },
   "id": "332cc6f0adefdc9d"
  },
  {
   "cell_type": "code",
   "execution_count": 186,
   "outputs": [],
   "source": [
    "# split wnd into five columns\n",
    "new_columns = wind_date_need['WND'].str.split(',', expand=True)\n",
    "new_columns.columns = ['direction', 'type', 'dir', 'speed','quality']\n",
    "wind_date_need = pd.concat([wind_date_need, new_columns], axis=1) "
   ],
   "metadata": {
    "collapsed": false,
    "ExecuteTime": {
     "end_time": "2023-11-08T05:29:34.730624500Z",
     "start_time": "2023-11-08T05:29:34.661749700Z"
    }
   },
   "id": "3ad75e6cc91d4bdb"
  },
  {
   "cell_type": "code",
   "execution_count": 187,
   "outputs": [
    {
     "data": {
      "text/plain": "                       DATE             WND direction type dir speed quality\n0       2010-01-02T00:00:00  040,1,N,0020,1       040    1   N  0020       1\n1       2010-01-02T01:00:00  999,9,V,0010,1       999    9   V  0010       1\n2       2010-01-02T02:00:00  999,9,C,0000,1       999    9   C  0000       1\n3       2010-01-02T03:00:00  140,1,N,0010,1       140    1   N  0010       1\n4       2010-01-02T04:00:00  300,1,N,0040,1       300    1   N  0040       1\n...                     ...             ...       ...  ...  ..   ...     ...\n111979  2020-09-11T17:00:00  170,1,N,0030,1       170    1   N  0030       1\n111980  2020-09-11T18:00:00  180,1,N,0040,1       180    1   N  0040       1\n111981  2020-09-11T19:00:00  220,1,V,0030,1       220    1   V  0030       1\n111982  2020-09-11T20:00:00  260,1,N,0030,1       260    1   N  0030       1\n111983  2020-09-11T21:00:00  310,1,V,0020,1       310    1   V  0020       1\n\n[111984 rows x 7 columns]",
      "text/html": "<div>\n<style scoped>\n    .dataframe tbody tr th:only-of-type {\n        vertical-align: middle;\n    }\n\n    .dataframe tbody tr th {\n        vertical-align: top;\n    }\n\n    .dataframe thead th {\n        text-align: right;\n    }\n</style>\n<table border=\"1\" class=\"dataframe\">\n  <thead>\n    <tr style=\"text-align: right;\">\n      <th></th>\n      <th>DATE</th>\n      <th>WND</th>\n      <th>direction</th>\n      <th>type</th>\n      <th>dir</th>\n      <th>speed</th>\n      <th>quality</th>\n    </tr>\n  </thead>\n  <tbody>\n    <tr>\n      <th>0</th>\n      <td>2010-01-02T00:00:00</td>\n      <td>040,1,N,0020,1</td>\n      <td>040</td>\n      <td>1</td>\n      <td>N</td>\n      <td>0020</td>\n      <td>1</td>\n    </tr>\n    <tr>\n      <th>1</th>\n      <td>2010-01-02T01:00:00</td>\n      <td>999,9,V,0010,1</td>\n      <td>999</td>\n      <td>9</td>\n      <td>V</td>\n      <td>0010</td>\n      <td>1</td>\n    </tr>\n    <tr>\n      <th>2</th>\n      <td>2010-01-02T02:00:00</td>\n      <td>999,9,C,0000,1</td>\n      <td>999</td>\n      <td>9</td>\n      <td>C</td>\n      <td>0000</td>\n      <td>1</td>\n    </tr>\n    <tr>\n      <th>3</th>\n      <td>2010-01-02T03:00:00</td>\n      <td>140,1,N,0010,1</td>\n      <td>140</td>\n      <td>1</td>\n      <td>N</td>\n      <td>0010</td>\n      <td>1</td>\n    </tr>\n    <tr>\n      <th>4</th>\n      <td>2010-01-02T04:00:00</td>\n      <td>300,1,N,0040,1</td>\n      <td>300</td>\n      <td>1</td>\n      <td>N</td>\n      <td>0040</td>\n      <td>1</td>\n    </tr>\n    <tr>\n      <th>...</th>\n      <td>...</td>\n      <td>...</td>\n      <td>...</td>\n      <td>...</td>\n      <td>...</td>\n      <td>...</td>\n      <td>...</td>\n    </tr>\n    <tr>\n      <th>111979</th>\n      <td>2020-09-11T17:00:00</td>\n      <td>170,1,N,0030,1</td>\n      <td>170</td>\n      <td>1</td>\n      <td>N</td>\n      <td>0030</td>\n      <td>1</td>\n    </tr>\n    <tr>\n      <th>111980</th>\n      <td>2020-09-11T18:00:00</td>\n      <td>180,1,N,0040,1</td>\n      <td>180</td>\n      <td>1</td>\n      <td>N</td>\n      <td>0040</td>\n      <td>1</td>\n    </tr>\n    <tr>\n      <th>111981</th>\n      <td>2020-09-11T19:00:00</td>\n      <td>220,1,V,0030,1</td>\n      <td>220</td>\n      <td>1</td>\n      <td>V</td>\n      <td>0030</td>\n      <td>1</td>\n    </tr>\n    <tr>\n      <th>111982</th>\n      <td>2020-09-11T20:00:00</td>\n      <td>260,1,N,0030,1</td>\n      <td>260</td>\n      <td>1</td>\n      <td>N</td>\n      <td>0030</td>\n      <td>1</td>\n    </tr>\n    <tr>\n      <th>111983</th>\n      <td>2020-09-11T21:00:00</td>\n      <td>310,1,V,0020,1</td>\n      <td>310</td>\n      <td>1</td>\n      <td>V</td>\n      <td>0020</td>\n      <td>1</td>\n    </tr>\n  </tbody>\n</table>\n<p>111984 rows × 7 columns</p>\n</div>"
     },
     "execution_count": 187,
     "metadata": {},
     "output_type": "execute_result"
    }
   ],
   "source": [
    "wind_date_need"
   ],
   "metadata": {
    "collapsed": false,
    "ExecuteTime": {
     "end_time": "2023-11-08T05:29:35.288056400Z",
     "start_time": "2023-11-08T05:29:35.254158800Z"
    }
   },
   "id": "df5ced8c817d768"
  },
  {
   "cell_type": "code",
   "execution_count": 188,
   "outputs": [
    {
     "data": {
      "text/plain": "                       DATE             WND direction type dir speed quality\n0       2010-01-02T00:00:00  040,1,N,0020,1       040    1   N  0020       1\n1       2010-01-02T01:00:00  999,9,V,0010,1       999    9   V  0010       1\n2       2010-01-02T02:00:00  999,9,C,0000,1       999    9   C  0000       1\n3       2010-01-02T03:00:00  140,1,N,0010,1       140    1   N  0010       1\n4       2010-01-02T04:00:00  300,1,N,0040,1       300    1   N  0040       1\n...                     ...             ...       ...  ...  ..   ...     ...\n111979  2020-09-11T17:00:00  170,1,N,0030,1       170    1   N  0030       1\n111980  2020-09-11T18:00:00  180,1,N,0040,1       180    1   N  0040       1\n111981  2020-09-11T19:00:00  220,1,V,0030,1       220    1   V  0030       1\n111982  2020-09-11T20:00:00  260,1,N,0030,1       260    1   N  0030       1\n111983  2020-09-11T21:00:00  310,1,V,0020,1       310    1   V  0020       1\n\n[111346 rows x 7 columns]",
      "text/html": "<div>\n<style scoped>\n    .dataframe tbody tr th:only-of-type {\n        vertical-align: middle;\n    }\n\n    .dataframe tbody tr th {\n        vertical-align: top;\n    }\n\n    .dataframe thead th {\n        text-align: right;\n    }\n</style>\n<table border=\"1\" class=\"dataframe\">\n  <thead>\n    <tr style=\"text-align: right;\">\n      <th></th>\n      <th>DATE</th>\n      <th>WND</th>\n      <th>direction</th>\n      <th>type</th>\n      <th>dir</th>\n      <th>speed</th>\n      <th>quality</th>\n    </tr>\n  </thead>\n  <tbody>\n    <tr>\n      <th>0</th>\n      <td>2010-01-02T00:00:00</td>\n      <td>040,1,N,0020,1</td>\n      <td>040</td>\n      <td>1</td>\n      <td>N</td>\n      <td>0020</td>\n      <td>1</td>\n    </tr>\n    <tr>\n      <th>1</th>\n      <td>2010-01-02T01:00:00</td>\n      <td>999,9,V,0010,1</td>\n      <td>999</td>\n      <td>9</td>\n      <td>V</td>\n      <td>0010</td>\n      <td>1</td>\n    </tr>\n    <tr>\n      <th>2</th>\n      <td>2010-01-02T02:00:00</td>\n      <td>999,9,C,0000,1</td>\n      <td>999</td>\n      <td>9</td>\n      <td>C</td>\n      <td>0000</td>\n      <td>1</td>\n    </tr>\n    <tr>\n      <th>3</th>\n      <td>2010-01-02T03:00:00</td>\n      <td>140,1,N,0010,1</td>\n      <td>140</td>\n      <td>1</td>\n      <td>N</td>\n      <td>0010</td>\n      <td>1</td>\n    </tr>\n    <tr>\n      <th>4</th>\n      <td>2010-01-02T04:00:00</td>\n      <td>300,1,N,0040,1</td>\n      <td>300</td>\n      <td>1</td>\n      <td>N</td>\n      <td>0040</td>\n      <td>1</td>\n    </tr>\n    <tr>\n      <th>...</th>\n      <td>...</td>\n      <td>...</td>\n      <td>...</td>\n      <td>...</td>\n      <td>...</td>\n      <td>...</td>\n      <td>...</td>\n    </tr>\n    <tr>\n      <th>111979</th>\n      <td>2020-09-11T17:00:00</td>\n      <td>170,1,N,0030,1</td>\n      <td>170</td>\n      <td>1</td>\n      <td>N</td>\n      <td>0030</td>\n      <td>1</td>\n    </tr>\n    <tr>\n      <th>111980</th>\n      <td>2020-09-11T18:00:00</td>\n      <td>180,1,N,0040,1</td>\n      <td>180</td>\n      <td>1</td>\n      <td>N</td>\n      <td>0040</td>\n      <td>1</td>\n    </tr>\n    <tr>\n      <th>111981</th>\n      <td>2020-09-11T19:00:00</td>\n      <td>220,1,V,0030,1</td>\n      <td>220</td>\n      <td>1</td>\n      <td>V</td>\n      <td>0030</td>\n      <td>1</td>\n    </tr>\n    <tr>\n      <th>111982</th>\n      <td>2020-09-11T20:00:00</td>\n      <td>260,1,N,0030,1</td>\n      <td>260</td>\n      <td>1</td>\n      <td>N</td>\n      <td>0030</td>\n      <td>1</td>\n    </tr>\n    <tr>\n      <th>111983</th>\n      <td>2020-09-11T21:00:00</td>\n      <td>310,1,V,0020,1</td>\n      <td>310</td>\n      <td>1</td>\n      <td>V</td>\n      <td>0020</td>\n      <td>1</td>\n    </tr>\n  </tbody>\n</table>\n<p>111346 rows × 7 columns</p>\n</div>"
     },
     "execution_count": 188,
     "metadata": {},
     "output_type": "execute_result"
    }
   ],
   "source": [
    "# data filter\n",
    "drop_data = wind_date_need[(wind_date_need['dir'] == '9') & (wind_date_need['speed'] != '0000')]\n",
    "wind_date_need = wind_date_need.drop(drop_data.index)\n",
    "drop_data = wind_date_need[(wind_date_need['speed'] == '9999')]\n",
    "wind_date_need = wind_date_need.drop(drop_data.index)\n",
    "drop_data = wind_date_need[(wind_date_need['quality'] != '1') & (wind_date_need['quality'] != '5')] \n",
    "wind_date_need = wind_date_need.drop(drop_data.index)\n",
    "wind_date_need"
   ],
   "metadata": {
    "collapsed": false,
    "ExecuteTime": {
     "end_time": "2023-11-08T05:29:35.956448400Z",
     "start_time": "2023-11-08T05:29:35.884624800Z"
    }
   },
   "id": "ae4052d990a9adb0"
  },
  {
   "cell_type": "code",
   "execution_count": 211,
   "outputs": [
    {
     "data": {
      "text/plain": "                       DATE             WND direction type dir speed quality  \\\n0       2010-01-02T00:00:00  040,1,N,0020,1       040    1   N  0020       1   \n1       2010-01-02T01:00:00  999,9,V,0010,1       999    9   V  0010       1   \n2       2010-01-02T02:00:00  999,9,C,0000,1       999    9   C  0000       1   \n3       2010-01-02T03:00:00  140,1,N,0010,1       140    1   N  0010       1   \n4       2010-01-02T04:00:00  300,1,N,0040,1       300    1   N  0040       1   \n...                     ...             ...       ...  ...  ..   ...     ...   \n111979  2020-09-11T17:00:00  170,1,N,0030,1       170    1   N  0030       1   \n111980  2020-09-11T18:00:00  180,1,N,0040,1       180    1   N  0040       1   \n111981  2020-09-11T19:00:00  220,1,V,0030,1       220    1   V  0030       1   \n111982  2020-09-11T20:00:00  260,1,N,0030,1       260    1   N  0030       1   \n111983  2020-09-11T21:00:00  310,1,V,0020,1       310    1   V  0020       1   \n\n        SPEED  month  \n0        20.0      1  \n1        10.0      1  \n2         0.0      1  \n3        10.0      1  \n4        40.0      1  \n...       ...    ...  \n111979   30.0      9  \n111980   40.0      9  \n111981   30.0      9  \n111982   30.0      9  \n111983   20.0      9  \n\n[111346 rows x 9 columns]",
      "text/html": "<div>\n<style scoped>\n    .dataframe tbody tr th:only-of-type {\n        vertical-align: middle;\n    }\n\n    .dataframe tbody tr th {\n        vertical-align: top;\n    }\n\n    .dataframe thead th {\n        text-align: right;\n    }\n</style>\n<table border=\"1\" class=\"dataframe\">\n  <thead>\n    <tr style=\"text-align: right;\">\n      <th></th>\n      <th>DATE</th>\n      <th>WND</th>\n      <th>direction</th>\n      <th>type</th>\n      <th>dir</th>\n      <th>speed</th>\n      <th>quality</th>\n      <th>SPEED</th>\n      <th>month</th>\n    </tr>\n  </thead>\n  <tbody>\n    <tr>\n      <th>0</th>\n      <td>2010-01-02T00:00:00</td>\n      <td>040,1,N,0020,1</td>\n      <td>040</td>\n      <td>1</td>\n      <td>N</td>\n      <td>0020</td>\n      <td>1</td>\n      <td>20.0</td>\n      <td>1</td>\n    </tr>\n    <tr>\n      <th>1</th>\n      <td>2010-01-02T01:00:00</td>\n      <td>999,9,V,0010,1</td>\n      <td>999</td>\n      <td>9</td>\n      <td>V</td>\n      <td>0010</td>\n      <td>1</td>\n      <td>10.0</td>\n      <td>1</td>\n    </tr>\n    <tr>\n      <th>2</th>\n      <td>2010-01-02T02:00:00</td>\n      <td>999,9,C,0000,1</td>\n      <td>999</td>\n      <td>9</td>\n      <td>C</td>\n      <td>0000</td>\n      <td>1</td>\n      <td>0.0</td>\n      <td>1</td>\n    </tr>\n    <tr>\n      <th>3</th>\n      <td>2010-01-02T03:00:00</td>\n      <td>140,1,N,0010,1</td>\n      <td>140</td>\n      <td>1</td>\n      <td>N</td>\n      <td>0010</td>\n      <td>1</td>\n      <td>10.0</td>\n      <td>1</td>\n    </tr>\n    <tr>\n      <th>4</th>\n      <td>2010-01-02T04:00:00</td>\n      <td>300,1,N,0040,1</td>\n      <td>300</td>\n      <td>1</td>\n      <td>N</td>\n      <td>0040</td>\n      <td>1</td>\n      <td>40.0</td>\n      <td>1</td>\n    </tr>\n    <tr>\n      <th>...</th>\n      <td>...</td>\n      <td>...</td>\n      <td>...</td>\n      <td>...</td>\n      <td>...</td>\n      <td>...</td>\n      <td>...</td>\n      <td>...</td>\n      <td>...</td>\n    </tr>\n    <tr>\n      <th>111979</th>\n      <td>2020-09-11T17:00:00</td>\n      <td>170,1,N,0030,1</td>\n      <td>170</td>\n      <td>1</td>\n      <td>N</td>\n      <td>0030</td>\n      <td>1</td>\n      <td>30.0</td>\n      <td>9</td>\n    </tr>\n    <tr>\n      <th>111980</th>\n      <td>2020-09-11T18:00:00</td>\n      <td>180,1,N,0040,1</td>\n      <td>180</td>\n      <td>1</td>\n      <td>N</td>\n      <td>0040</td>\n      <td>1</td>\n      <td>40.0</td>\n      <td>9</td>\n    </tr>\n    <tr>\n      <th>111981</th>\n      <td>2020-09-11T19:00:00</td>\n      <td>220,1,V,0030,1</td>\n      <td>220</td>\n      <td>1</td>\n      <td>V</td>\n      <td>0030</td>\n      <td>1</td>\n      <td>30.0</td>\n      <td>9</td>\n    </tr>\n    <tr>\n      <th>111982</th>\n      <td>2020-09-11T20:00:00</td>\n      <td>260,1,N,0030,1</td>\n      <td>260</td>\n      <td>1</td>\n      <td>N</td>\n      <td>0030</td>\n      <td>1</td>\n      <td>30.0</td>\n      <td>9</td>\n    </tr>\n    <tr>\n      <th>111983</th>\n      <td>2020-09-11T21:00:00</td>\n      <td>310,1,V,0020,1</td>\n      <td>310</td>\n      <td>1</td>\n      <td>V</td>\n      <td>0020</td>\n      <td>1</td>\n      <td>20.0</td>\n      <td>9</td>\n    </tr>\n  </tbody>\n</table>\n<p>111346 rows × 9 columns</p>\n</div>"
     },
     "execution_count": 211,
     "metadata": {},
     "output_type": "execute_result"
    }
   ],
   "source": [
    "# transform speed from str to number and add a column month\n",
    "wind_date_need['SPEED'] = pd.to_numeric(wind_date_need['speed'], errors='coerce')\n",
    "wind_date_need['month'] = pd.to_datetime(wind_date_need['DATE']).dt.month\n",
    "wind_date_need['SPEED'] = wind_date_need['SPEED'].astype(float)\n",
    "wind_date_need"
   ],
   "metadata": {
    "collapsed": false,
    "ExecuteTime": {
     "end_time": "2023-11-08T06:31:59.198960Z",
     "start_time": "2023-11-08T06:31:58.989833200Z"
    }
   },
   "id": "c021eec8e5aec0bf"
  },
  {
   "cell_type": "code",
   "execution_count": 190,
   "outputs": [
    {
     "data": {
      "text/plain": "<Axes: xlabel='month'>"
     },
     "execution_count": 190,
     "metadata": {},
     "output_type": "execute_result"
    },
    {
     "data": {
      "text/plain": "<Figure size 640x480 with 1 Axes>",
      "image/png": "[encoded data removed]"
     },
     "metadata": {},
     "output_type": "display_data"
    }
   ],
   "source": [
    "mean_speed_monthly = wind_date_need.groupby('month')['SPEED'].mean()\n",
    "mean_speed_monthly\n",
    "mean_speed_monthly.plot()"
   ],
   "metadata": {
    "collapsed": false,
    "ExecuteTime": {
     "end_time": "2023-11-08T05:29:37.506594200Z",
     "start_time": "2023-11-08T05:29:37.445351500Z"
    }
   },
   "id": "3887a77a09ef91f8"
  },
  {
   "cell_type": "code",
   "execution_count": 215,
   "outputs": [
    {
     "data": {
      "text/plain": "       year  month  day  hour  miniute  Temperature1  Temperature2  \\\n0      2003      1    1     0        0        -18.74        -19.80   \n1      2003      1    1     0       30        -18.44        -18.89   \n2      2003      1    1     1        0        -20.12        -20.57   \n3      2003      1    1     1       30        -18.33        -20.11   \n4      2003      1    1     2        0        -18.43        -20.18   \n...     ...    ...  ...   ...      ...           ...           ...   \n17515  2003     12   31    21       30        -12.55        -12.52   \n17516  2003     12   31    22        0        -13.19        -13.19   \n17517  2003     12   31    22       30        -13.80        -13.77   \n17518  2003     12   31    23        0        -14.37        -14.34   \n17519  2003     12   31    23       30        -14.86        -14.84   \n\n       VaporPressure1  VaporPressure2  ShortwavRadiation  AverageNetRadiation  \\\n0               0.066           0.065              0.261                  0.0   \n1               0.069           0.070              0.004                  0.0   \n2               0.064           0.063              0.000                  0.0   \n3               0.069           0.065              0.014                  0.0   \n4               0.069           0.067              0.454                  0.0   \n...               ...             ...                ...                  ...   \n17515           0.176           0.183              0.000                  0.0   \n17516           0.167           0.173              0.000                  0.0   \n17517           0.158           0.164              0.000                  0.0   \n17518           0.150           0.157              0.000                  0.0   \n17519           0.143           0.149              0.000                  0.0   \n\n       SoilTemperature  WaterContent2  Total Precipitation  \n0               -8.870          0.067                  0.0  \n1               -9.040          0.066                  0.0  \n2               -9.180          0.066                  0.0  \n3               -9.330          0.066                  0.0  \n4               -9.470          0.066                  0.0  \n...                ...            ...                  ...  \n17515           -5.305          0.070                  0.0  \n17516           -5.375          0.070                  0.0  \n17517           -5.440          0.070                  0.0  \n17518           -5.496          0.070                  0.0  \n17519           -5.546          0.070                  0.0  \n\n[17520 rows x 14 columns]",
      "text/html": "<div>\n<style scoped>\n    .dataframe tbody tr th:only-of-type {\n        vertical-align: middle;\n    }\n\n    .dataframe tbody tr th {\n        vertical-align: top;\n    }\n\n    .dataframe thead th {\n        text-align: right;\n    }\n</style>\n<table border=\"1\" class=\"dataframe\">\n  <thead>\n    <tr style=\"text-align: right;\">\n      <th></th>\n      <th>year</th>\n      <th>month</th>\n      <th>day</th>\n      <th>hour</th>\n      <th>miniute</th>\n      <th>Temperature1</th>\n      <th>Temperature2</th>\n      <th>VaporPressure1</th>\n      <th>VaporPressure2</th>\n      <th>ShortwavRadiation</th>\n      <th>AverageNetRadiation</th>\n      <th>SoilTemperature</th>\n      <th>WaterContent2</th>\n      <th>Total Precipitation</th>\n    </tr>\n  </thead>\n  <tbody>\n    <tr>\n      <th>0</th>\n      <td>2003</td>\n      <td>1</td>\n      <td>1</td>\n      <td>0</td>\n      <td>0</td>\n      <td>-18.74</td>\n      <td>-19.80</td>\n      <td>0.066</td>\n      <td>0.065</td>\n      <td>0.261</td>\n      <td>0.0</td>\n      <td>-8.870</td>\n      <td>0.067</td>\n      <td>0.0</td>\n    </tr>\n    <tr>\n      <th>1</th>\n      <td>2003</td>\n      <td>1</td>\n      <td>1</td>\n      <td>0</td>\n      <td>30</td>\n      <td>-18.44</td>\n      <td>-18.89</td>\n      <td>0.069</td>\n      <td>0.070</td>\n      <td>0.004</td>\n      <td>0.0</td>\n      <td>-9.040</td>\n      <td>0.066</td>\n      <td>0.0</td>\n    </tr>\n    <tr>\n      <th>2</th>\n      <td>2003</td>\n      <td>1</td>\n      <td>1</td>\n      <td>1</td>\n      <td>0</td>\n      <td>-20.12</td>\n      <td>-20.57</td>\n      <td>0.064</td>\n      <td>0.063</td>\n      <td>0.000</td>\n      <td>0.0</td>\n      <td>-9.180</td>\n      <td>0.066</td>\n      <td>0.0</td>\n    </tr>\n    <tr>\n      <th>3</th>\n      <td>2003</td>\n      <td>1</td>\n      <td>1</td>\n      <td>1</td>\n      <td>30</td>\n      <td>-18.33</td>\n      <td>-20.11</td>\n      <td>0.069</td>\n      <td>0.065</td>\n      <td>0.014</td>\n      <td>0.0</td>\n      <td>-9.330</td>\n      <td>0.066</td>\n      <td>0.0</td>\n    </tr>\n    <tr>\n      <th>4</th>\n      <td>2003</td>\n      <td>1</td>\n      <td>1</td>\n      <td>2</td>\n      <td>0</td>\n      <td>-18.43</td>\n      <td>-20.18</td>\n      <td>0.069</td>\n      <td>0.067</td>\n      <td>0.454</td>\n      <td>0.0</td>\n      <td>-9.470</td>\n      <td>0.066</td>\n      <td>0.0</td>\n    </tr>\n    <tr>\n      <th>...</th>\n      <td>...</td>\n      <td>...</td>\n      <td>...</td>\n      <td>...</td>\n      <td>...</td>\n      <td>...</td>\n      <td>...</td>\n      <td>...</td>\n      <td>...</td>\n      <td>...</td>\n      <td>...</td>\n      <td>...</td>\n      <td>...</td>\n      <td>...</td>\n    </tr>\n    <tr>\n      <th>17515</th>\n      <td>2003</td>\n      <td>12</td>\n      <td>31</td>\n      <td>21</td>\n      <td>30</td>\n      <td>-12.55</td>\n      <td>-12.52</td>\n      <td>0.176</td>\n      <td>0.183</td>\n      <td>0.000</td>\n      <td>0.0</td>\n      <td>-5.305</td>\n      <td>0.070</td>\n      <td>0.0</td>\n    </tr>\n    <tr>\n      <th>17516</th>\n      <td>2003</td>\n      <td>12</td>\n      <td>31</td>\n      <td>22</td>\n      <td>0</td>\n      <td>-13.19</td>\n      <td>-13.19</td>\n      <td>0.167</td>\n      <td>0.173</td>\n      <td>0.000</td>\n      <td>0.0</td>\n      <td>-5.375</td>\n      <td>0.070</td>\n      <td>0.0</td>\n    </tr>\n    <tr>\n      <th>17517</th>\n      <td>2003</td>\n      <td>12</td>\n      <td>31</td>\n      <td>22</td>\n      <td>30</td>\n      <td>-13.80</td>\n      <td>-13.77</td>\n      <td>0.158</td>\n      <td>0.164</td>\n      <td>0.000</td>\n      <td>0.0</td>\n      <td>-5.440</td>\n      <td>0.070</td>\n      <td>0.0</td>\n    </tr>\n    <tr>\n      <th>17518</th>\n      <td>2003</td>\n      <td>12</td>\n      <td>31</td>\n      <td>23</td>\n      <td>0</td>\n      <td>-14.37</td>\n      <td>-14.34</td>\n      <td>0.150</td>\n      <td>0.157</td>\n      <td>0.000</td>\n      <td>0.0</td>\n      <td>-5.496</td>\n      <td>0.070</td>\n      <td>0.0</td>\n    </tr>\n    <tr>\n      <th>17519</th>\n      <td>2003</td>\n      <td>12</td>\n      <td>31</td>\n      <td>23</td>\n      <td>30</td>\n      <td>-14.86</td>\n      <td>-14.84</td>\n      <td>0.143</td>\n      <td>0.149</td>\n      <td>0.000</td>\n      <td>0.0</td>\n      <td>-5.546</td>\n      <td>0.070</td>\n      <td>0.0</td>\n    </tr>\n  </tbody>\n</table>\n<p>17520 rows × 14 columns</p>\n</div>"
     },
     "execution_count": 215,
     "metadata": {},
     "output_type": "execute_result"
    }
   ],
   "source": [
    "#problem3\n",
    "Climate_data = pd.read_csv('2003-climate.csv')\n",
    "Climate_data"
   ],
   "metadata": {
    "collapsed": false,
    "ExecuteTime": {
     "end_time": "2023-11-08T06:35:11.418636900Z",
     "start_time": "2023-11-08T06:35:11.377206700Z"
    }
   },
   "id": "833a409b9b1370e6"
  },
  {
   "cell_type": "code",
   "execution_count": 213,
   "outputs": [
    {
     "data": {
      "text/plain": "17520"
     },
     "execution_count": 213,
     "metadata": {},
     "output_type": "execute_result"
    }
   ],
   "source": [
    "# check if nan exist\n",
    "nan_count = Climate_data['Temperature1'].count()\n",
    "nan_count"
   ],
   "metadata": {
    "collapsed": false,
    "ExecuteTime": {
     "end_time": "2023-11-08T06:34:41.861240600Z",
     "start_time": "2023-11-08T06:34:41.845224500Z"
    }
   },
   "id": "6ddfd02107b64103"
  },
  {
   "cell_type": "code",
   "execution_count": 217,
   "outputs": [
    {
     "data": {
      "text/plain": "      year  month  day  hour  miniute  Temperature1  Temperature2  \\\n9825  2003      7   24    16       30         21.04         21.51   \n\n      VaporPressure1  VaporPressure2  ShortwavRadiation  AverageNetRadiation  \\\n9825           1.076           1.128              754.1              1344.79   \n\n      SoilTemperature  WaterContent2  Total Precipitation  \n9825            18.26          0.239                  0.0  ",
      "text/html": "<div>\n<style scoped>\n    .dataframe tbody tr th:only-of-type {\n        vertical-align: middle;\n    }\n\n    .dataframe tbody tr th {\n        vertical-align: top;\n    }\n\n    .dataframe thead th {\n        text-align: right;\n    }\n</style>\n<table border=\"1\" class=\"dataframe\">\n  <thead>\n    <tr style=\"text-align: right;\">\n      <th></th>\n      <th>year</th>\n      <th>month</th>\n      <th>day</th>\n      <th>hour</th>\n      <th>miniute</th>\n      <th>Temperature1</th>\n      <th>Temperature2</th>\n      <th>VaporPressure1</th>\n      <th>VaporPressure2</th>\n      <th>ShortwavRadiation</th>\n      <th>AverageNetRadiation</th>\n      <th>SoilTemperature</th>\n      <th>WaterContent2</th>\n      <th>Total Precipitation</th>\n    </tr>\n  </thead>\n  <tbody>\n    <tr>\n      <th>9825</th>\n      <td>2003</td>\n      <td>7</td>\n      <td>24</td>\n      <td>16</td>\n      <td>30</td>\n      <td>21.04</td>\n      <td>21.51</td>\n      <td>1.076</td>\n      <td>1.128</td>\n      <td>754.1</td>\n      <td>1344.79</td>\n      <td>18.26</td>\n      <td>0.239</td>\n      <td>0.0</td>\n    </tr>\n  </tbody>\n</table>\n</div>"
     },
     "execution_count": 217,
     "metadata": {},
     "output_type": "execute_result"
    }
   ],
   "source": [
    "\n",
    "#check and find the max record \n",
    "max_indices = Climate_data[Climate_data['Temperature1'] == Climate_data['Temperature1'].max()].index\n",
    "max_rows =Climate_data.loc[max_indices]\n",
    "max_rows\n"
   ],
   "metadata": {
    "collapsed": false,
    "ExecuteTime": {
     "end_time": "2023-11-08T06:39:54.522806800Z",
     "start_time": "2023-11-08T06:39:54.506907700Z"
    }
   },
   "id": "5857de4d9e2c65f"
  },
  {
   "cell_type": "code",
   "execution_count": 196,
   "outputs": [
    {
     "data": {
      "text/plain": "      year  month  day  hour  miniute  Temperature1  Temperature2  \\\n1261  2003      1   27     6       30        -28.66        -29.45   \n\n      VaporPressure1  VaporPressure2  ShortwavRadiation  AverageNetRadiation  \\\n1261           0.024           0.024                0.0                  0.0   \n\n      SoilTemperature  WaterContent2  Total Precipitation  \n1261           -12.27          0.062                  0.0  ",
      "text/html": "<div>\n<style scoped>\n    .dataframe tbody tr th:only-of-type {\n        vertical-align: middle;\n    }\n\n    .dataframe tbody tr th {\n        vertical-align: top;\n    }\n\n    .dataframe thead th {\n        text-align: right;\n    }\n</style>\n<table border=\"1\" class=\"dataframe\">\n  <thead>\n    <tr style=\"text-align: right;\">\n      <th></th>\n      <th>year</th>\n      <th>month</th>\n      <th>day</th>\n      <th>hour</th>\n      <th>miniute</th>\n      <th>Temperature1</th>\n      <th>Temperature2</th>\n      <th>VaporPressure1</th>\n      <th>VaporPressure2</th>\n      <th>ShortwavRadiation</th>\n      <th>AverageNetRadiation</th>\n      <th>SoilTemperature</th>\n      <th>WaterContent2</th>\n      <th>Total Precipitation</th>\n    </tr>\n  </thead>\n  <tbody>\n    <tr>\n      <th>1261</th>\n      <td>2003</td>\n      <td>1</td>\n      <td>27</td>\n      <td>6</td>\n      <td>30</td>\n      <td>-28.66</td>\n      <td>-29.45</td>\n      <td>0.024</td>\n      <td>0.024</td>\n      <td>0.0</td>\n      <td>0.0</td>\n      <td>-12.27</td>\n      <td>0.062</td>\n      <td>0.0</td>\n    </tr>\n  </tbody>\n</table>\n</div>"
     },
     "execution_count": 196,
     "metadata": {},
     "output_type": "execute_result"
    }
   ],
   "source": [
    "#check and find the min record\n",
    "min_indices = Climate_data[Climate_data['Temperature1'] == Climate_data['Temperature1'].min()].index\n",
    "min_rows =Climate_data.loc[min_indices]\n",
    "min_rows"
   ],
   "metadata": {
    "collapsed": false,
    "ExecuteTime": {
     "end_time": "2023-11-08T05:29:42.000959200Z",
     "start_time": "2023-11-08T05:29:41.978058600Z"
    }
   },
   "id": "d1049c93f0e8bc3a"
  },
  {
   "cell_type": "code",
   "execution_count": 197,
   "outputs": [
    {
     "data": {
      "text/plain": "-0.5345"
     },
     "execution_count": 197,
     "metadata": {},
     "output_type": "execute_result"
    }
   ],
   "source": [
    "#find the median\n",
    "median = Climate_data['Temperature1'].median()\n",
    "median\n",
    "\n"
   ],
   "metadata": {
    "collapsed": false,
    "ExecuteTime": {
     "end_time": "2023-11-08T05:29:42.569919300Z",
     "start_time": "2023-11-08T05:29:42.551238300Z"
    }
   },
   "id": "940e1960cf6317f6"
  },
  {
   "cell_type": "code",
   "execution_count": 198,
   "outputs": [
    {
     "data": {
      "text/plain": "-1.2706185977645548"
     },
     "execution_count": 198,
     "metadata": {},
     "output_type": "execute_result"
    }
   ],
   "source": [
    "#find the mean\n",
    "median = Climate_data['Temperature1'].mean()\n",
    "median"
   ],
   "metadata": {
    "collapsed": false,
    "ExecuteTime": {
     "end_time": "2023-11-08T05:29:43.244052Z",
     "start_time": "2023-11-08T05:29:43.231506900Z"
    }
   },
   "id": "1a85b0c9f9903f70"
  },
  {
   "cell_type": "code",
   "execution_count": 199,
   "outputs": [
    {
     "data": {
      "text/plain": "9.69260291365657"
     },
     "execution_count": 199,
     "metadata": {},
     "output_type": "execute_result"
    }
   ],
   "source": [
    "std = Climate_data['Temperature1'].std()\n",
    "std\n"
   ],
   "metadata": {
    "collapsed": false,
    "ExecuteTime": {
     "end_time": "2023-11-08T05:29:43.856001300Z",
     "start_time": "2023-11-08T05:29:43.853081Z"
    }
   },
   "id": "e005c1d3a3bf2696"
  },
  {
   "cell_type": "code",
   "execution_count": 216,
   "outputs": [
    {
     "data": {
      "text/plain": "<Axes: xlabel='month'>"
     },
     "execution_count": 216,
     "metadata": {},
     "output_type": "execute_result"
    },
    {
     "data": {
      "text/plain": "<Figure size 640x480 with 1 Axes>",
      "image/png": "[encoded data removed]"
     },
     "metadata": {},
     "output_type": "display_data"
    }
   ],
   "source": [
    "mean_temperature1_monthly = Climate_data.groupby('month')['Temperature1'].mean()\n",
    "mean_temperature1_monthly\n",
    "mean_temperature1_monthly.plot()"
   ],
   "metadata": {
    "collapsed": false,
    "ExecuteTime": {
     "end_time": "2023-11-08T06:39:39.612800400Z",
     "start_time": "2023-11-08T06:39:39.555567700Z"
    }
   },
   "id": "80ce91c0472edc81"
  },
  {
   "cell_type": "code",
   "execution_count": null,
   "outputs": [],
   "source": [],
   "metadata": {
    "collapsed": false
   },
   "id": "679da5af28c1ecd6"
  }
 ],
 "metadata": {
  "kernelspec": {
   "display_name": "Python 3",
   "language": "python",
   "name": "python3"
  },
  "language_info": {
   "codemirror_mode": {
    "name": "ipython",
    "version": 2
   },
   "file_extension": ".py",
   "mimetype": "text/x-python",
   "name": "python",
   "nbconvert_exporter": "python",
   "pygments_lexer": "ipython2",
   "version": "2.7.6"
  }
 },
 "nbformat": 4,
 "nbformat_minor": 5
}
